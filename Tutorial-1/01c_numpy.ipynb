{
 "cells": [
  {
   "cell_type": "markdown",
   "metadata": {
    "id": "SdzAnLfosrIb"
   },
   "source": [
    "# <u>NumPy</u>\n",
    "\n",
    "NumPy is a library to perform fast operations with arrays. We can represent vectors, matrices, and tensors (meaning >2D), using them, and NumPy offers a plethora of built-in operations."
   ]
  },
  {
   "cell_type": "code",
   "execution_count": 1,
   "metadata": {
    "id": "WJ5OeWHHsrIe",
    "executionInfo": {
     "status": "ok",
     "timestamp": 1707471880477,
     "user_tz": -120,
     "elapsed": 37,
     "user": {
      "displayName": "Michail Raptakis",
      "userId": "13076296806103248309"
     }
    }
   },
   "outputs": [],
   "source": [
    "import numpy as np"
   ]
  },
  {
   "cell_type": "markdown",
   "source": [
    "\n",
    "A difference with Python lists, is that, by definition, array elements are all required to be of the <u>same data type</u>. Hence, NumPy arrays can be created from lists, as long as this holds.\n",
    "To turn a list into an array, you can use `np.array()` or `np.asarray()`:"
   ],
   "metadata": {
    "id": "i27JrIEFC7kH"
   }
  },
  {
   "cell_type": "markdown",
   "metadata": {
    "id": "WgQ8ZGQSsrIf"
   },
   "source": [
    "## <u>1D NumPy Arrays (or vectors)</u>"
   ]
  },
  {
   "cell_type": "code",
   "execution_count": 2,
   "metadata": {
    "colab": {
     "base_uri": "https://localhost:8080/"
    },
    "id": "UK8Q5nPQsrIf",
    "executionInfo": {
     "status": "ok",
     "timestamp": 1707471880477,
     "user_tz": -120,
     "elapsed": 36,
     "user": {
      "displayName": "Michail Raptakis",
      "userId": "13076296806103248309"
     }
    },
    "outputId": "3cc80a4d-99e8-45d9-ea1e-ff11eb4e3a28"
   },
   "outputs": [
    {
     "name": "stdout",
     "output_type": "stream",
     "text": [
      "<class 'list'>\n",
      "<class 'numpy.ndarray'>\n",
      "<class 'numpy.ndarray'>\n"
     ]
    }
   ],
   "source": [
    "x1 = [1, 2, 3]  # x1 is a list\n",
    "print(type(x1))\n",
    "\n",
    "x1 = np.array(x1)  # x1 converted to a NumPy array\n",
    "print(type(x1))\n",
    "\n",
    "x2 = np.asarray([4, 5, 6]) # x2 is also a Numpy array\n",
    "print(type(x2))"
   ]
  },
  {
   "cell_type": "markdown",
   "metadata": {
    "id": "rll0h_yEsrIf"
   },
   "source": [
    "### <u>Slicing</u>\n",
    "Works exactly as in lists."
   ]
  },
  {
   "cell_type": "code",
   "execution_count": 3,
   "metadata": {
    "colab": {
     "base_uri": "https://localhost:8080/"
    },
    "id": "9yQFH0VasrIg",
    "executionInfo": {
     "status": "ok",
     "timestamp": 1707471880477,
     "user_tz": -120,
     "elapsed": 35,
     "user": {
      "displayName": "Michail Raptakis",
      "userId": "13076296806103248309"
     }
    },
    "outputId": "19d66a59-f2cf-41a5-af7f-758065b0e4e4"
   },
   "outputs": [
    {
     "name": "stdout",
     "output_type": "stream",
     "text": [
      "[5 6]\n"
     ]
    }
   ],
   "source": [
    "print(x2[1:])"
   ]
  },
  {
   "cell_type": "markdown",
   "metadata": {
    "id": "G-TS_QzPsrIh"
   },
   "source": [
    "### <u>Element-wise operations between 1D arrays</u>\n",
    "Standard mathematical operators are overloaded to work with NumPy arrays:"
   ]
  },
  {
   "cell_type": "code",
   "execution_count": 4,
   "metadata": {
    "colab": {
     "base_uri": "https://localhost:8080/"
    },
    "id": "aQn2N6U8srIh",
    "executionInfo": {
     "status": "ok",
     "timestamp": 1707471880477,
     "user_tz": -120,
     "elapsed": 35,
     "user": {
      "displayName": "Michail Raptakis",
      "userId": "13076296806103248309"
     }
    },
    "outputId": "d98e5be8-ee00-4112-c395-228c44fdf6a8"
   },
   "outputs": [
    {
     "name": "stdout",
     "output_type": "stream",
     "text": [
      "Original vectors:\n",
      " x1 = [1 2 3], x2 = [4 5 6]\n",
      "Element-wise sum:\n",
      " x1 + x2 = [5 7 9]\n",
      "Element-wise product:\n",
      " x1 * x2 = [ 4 10 18]\n",
      "Dot product:\n",
      " np.dot(x1,x2) = 32\n",
      "Also dot product that works for Python >= 3.5:\n",
      " x1 @ x2 = 32\n"
     ]
    }
   ],
   "source": [
    "print(f\"Original vectors:\\n x1 = {x1}, x2 = {x2}\")\n",
    "print(f\"Element-wise sum:\\n x1 + x2 = {x1 + x2}\")\n",
    "print(f\"Element-wise product:\\n x1 * x2 = {x1 * x2}\")\n",
    "print(f\"Dot product:\\n np.dot(x1,x2) = {np.dot(x1,x2)}\")\n",
    "print(f\"Also dot product that works for Python >= 3.5:\\n x1 @ x2 = {x1 @ x2}\")"
   ]
  },
  {
   "cell_type": "markdown",
   "metadata": {
    "id": "LKRZNEGHsrIh"
   },
   "source": [
    "### <u>Operations with scalars</u>"
   ]
  },
  {
   "cell_type": "code",
   "execution_count": 5,
   "metadata": {
    "colab": {
     "base_uri": "https://localhost:8080/"
    },
    "id": "vZBNWIDWsrIh",
    "executionInfo": {
     "status": "ok",
     "timestamp": 1707471880478,
     "user_tz": -120,
     "elapsed": 33,
     "user": {
      "displayName": "Michail Raptakis",
      "userId": "13076296806103248309"
     }
    },
    "outputId": "cd3ec113-8116-4ee1-d2af-7ea2fb3babdb"
   },
   "outputs": [
    {
     "name": "stdout",
     "output_type": "stream",
     "text": [
      "Original vector:\n",
      " x1 = [1 2 3]\n",
      "Add a scalar:\n",
      " x1 + 2 = [3 4 5]\n",
      "Product by a scalar:\n",
      " x1 * 2 = [2 4 6]\n",
      "Power by a scalar:\n",
      " x1 ** 2 = [1 4 9]\n"
     ]
    }
   ],
   "source": [
    "print(f\"Original vector:\\n x1 = {x1}\")\n",
    "print(f\"Add a scalar:\\n x1 + 2 = {x1 + 2}\")\n",
    "print(f\"Product by a scalar:\\n x1 * 2 = {x1 * 2}\")\n",
    "print(f\"Power by a scalar:\\n x1 ** 2 = {x1 ** 2}\")"
   ]
  },
  {
   "cell_type": "markdown",
   "metadata": {
    "id": "MFyMcq2esrIh"
   },
   "source": [
    "### <u>Reduction operations</u>"
   ]
  },
  {
   "cell_type": "code",
   "execution_count": 6,
   "metadata": {
    "colab": {
     "base_uri": "https://localhost:8080/"
    },
    "id": "Hw9B6zNFsrIh",
    "executionInfo": {
     "status": "ok",
     "timestamp": 1707471880478,
     "user_tz": -120,
     "elapsed": 31,
     "user": {
      "displayName": "Michail Raptakis",
      "userId": "13076296806103248309"
     }
    },
    "outputId": "82fc03e8-99ed-4078-d604-92f8f6ad9dde"
   },
   "outputs": [
    {
     "name": "stdout",
     "output_type": "stream",
     "text": [
      "Sum of all elements of array x1:\n",
      "x1.sum() = 6, or np.sum(x1) = 6\n",
      "Product of all elements of array x2:\n",
      "x2.prod() = 120, or np.prod(x2) = 120\n"
     ]
    }
   ],
   "source": [
    "print(f\"Sum of all elements of array x1:\\nx1.sum() = {x1.sum()}, or np.sum(x1) = {np.sum(x1)}\")\n",
    "print(f\"Product of all elements of array x2:\\nx2.prod() = {x2.prod()}, or np.prod(x2) = {np.prod(x2)}\")"
   ]
  },
  {
   "cell_type": "markdown",
   "metadata": {
    "id": "TZ7rRHIHsrIi"
   },
   "source": [
    "**Be careful not to confuse lists with NumPy arrays** (they are overloaded differently):"
   ]
  },
  {
   "cell_type": "code",
   "execution_count": 7,
   "metadata": {
    "colab": {
     "base_uri": "https://localhost:8080/"
    },
    "id": "9H1WgmlEsrIi",
    "executionInfo": {
     "status": "ok",
     "timestamp": 1707471880478,
     "user_tz": -120,
     "elapsed": 27,
     "user": {
      "displayName": "Michail Raptakis",
      "userId": "13076296806103248309"
     }
    },
    "outputId": "e234e080-274d-48e2-e71a-49195e6a2486"
   },
   "outputs": [
    {
     "name": "stdout",
     "output_type": "stream",
     "text": [
      "l1 = [3, 2, 4], l2 = [1, 2, 3]\n",
      "l1 + l2 = [3, 2, 4, 1, 2, 3]\n",
      "l2*2 = [1, 2, 3, 1, 2, 3]\n"
     ]
    }
   ],
   "source": [
    "l1 = [3, 2, 4]\n",
    "l2 = [1, 2, 3]\n",
    "print(f\"l1 = {l1}, l2 = {l2}\")\n",
    "print(f\"l1 + l2 = {l1 + l2}\") # concatenation\n",
    "print(f\"l2*2 = {l2*2}\")       # repetition"
   ]
  },
  {
   "cell_type": "markdown",
   "metadata": {
    "id": "Ty1_8uc0srIi"
   },
   "source": [
    "## <u>2D NumPy Arrays (or matrices)</u>"
   ]
  },
  {
   "cell_type": "code",
   "execution_count": 8,
   "metadata": {
    "colab": {
     "base_uri": "https://localhost:8080/"
    },
    "id": "oxUcBFzVsrIi",
    "executionInfo": {
     "status": "ok",
     "timestamp": 1707471880478,
     "user_tz": -120,
     "elapsed": 25,
     "user": {
      "displayName": "Michail Raptakis",
      "userId": "13076296806103248309"
     }
    },
    "outputId": "eb0dab47-7f70-4367-92fd-7494016677f4"
   },
   "outputs": [
    {
     "name": "stdout",
     "output_type": "stream",
     "text": [
      " x =\n",
      "[[1 2 3]\n",
      " [4 5 6]]\n",
      "Shape of a 2D array:\n",
      " x.shape = (2, 3)\n",
      "First dimension:\n",
      " x.shape[0] = 2\n",
      "Second dimension:\n",
      " x.shape[1] = 3\n"
     ]
    }
   ],
   "source": [
    "x = [\n",
    "    [1, 2, 3],\n",
    "    [4, 5, 6]\n",
    "]\n",
    "x = np.asarray(x)\n",
    "print(f\" x =\\n{x}\")\n",
    "print(f\"Shape of a 2D array:\\n x.shape = {x.shape}\")\n",
    "print(f\"First dimension:\\n x.shape[0] = {x.shape[0]}\")\n",
    "print(f\"Second dimension:\\n x.shape[1] = {x.shape[1]}\")"
   ]
  },
  {
   "cell_type": "markdown",
   "metadata": {
    "id": "3Q5-TVa2srIi"
   },
   "source": [
    "### <u>Matrix slicing</u>"
   ]
  },
  {
   "cell_type": "code",
   "execution_count": 9,
   "metadata": {
    "colab": {
     "base_uri": "https://localhost:8080/"
    },
    "id": "gfxOCLNdsrIi",
    "executionInfo": {
     "status": "ok",
     "timestamp": 1707471880478,
     "user_tz": -120,
     "elapsed": 23,
     "user": {
      "displayName": "Michail Raptakis",
      "userId": "13076296806103248309"
     }
    },
    "outputId": "5a236e05-06e6-4a6e-ac47-c0c33e6ccd02"
   },
   "outputs": [
    {
     "name": "stdout",
     "output_type": "stream",
     "text": [
      " x =\n",
      "[[1 2 3]\n",
      " [4 5 6]]\n",
      "First row:\n",
      " x[0] = [1 2 3]\n",
      "Second column:\n",
      " x[:, 1] = [2 5]\n",
      "Last two columns:\n",
      " x[:, -2:] =\n",
      "[[2 3]\n",
      " [5 6]]\n"
     ]
    }
   ],
   "source": [
    "print(f\" x =\\n{x}\")\n",
    "print(f\"First row:\\n x[0] = {x[0]}\")\n",
    "print(f\"Second column:\\n x[:, 1] = {x[:, 1]}\")\n",
    "print(f\"Last two columns:\\n x[:, -2:] =\\n{x[:, -2:]}\")\n",
    "# x[:, ...] is a slice that selects all rows (:),\n",
    "# and the -2: notation means \"from the second-to-last column to the end.\""
   ]
  },
  {
   "cell_type": "markdown",
   "metadata": {
    "id": "b-_cLMYRsrIi"
   },
   "source": [
    "### <u>Matrix transposition</u>"
   ]
  },
  {
   "cell_type": "code",
   "execution_count": 10,
   "metadata": {
    "colab": {
     "base_uri": "https://localhost:8080/"
    },
    "id": "S7x5pU7bsrIi",
    "executionInfo": {
     "status": "ok",
     "timestamp": 1707471880478,
     "user_tz": -120,
     "elapsed": 20,
     "user": {
      "displayName": "Michail Raptakis",
      "userId": "13076296806103248309"
     }
    },
    "outputId": "0b637922-5487-4394-cbad-e956e855b2c0"
   },
   "outputs": [
    {
     "name": "stdout",
     "output_type": "stream",
     "text": [
      "Original array:\n",
      "[[1 2 3]\n",
      " [4 5 6]]\n",
      "Transposed array:\n",
      "[[1 4]\n",
      " [2 5]\n",
      " [3 6]]\n",
      "Original array shape:   (2, 3)\n",
      "Transposed array shape: (3, 2)\n"
     ]
    }
   ],
   "source": [
    "xt = x.T  # transposition\n",
    "print(f\"Original array:\\n{x}\\nTransposed array:\\n{xt}\")\n",
    "print(f\"Original array shape:   {x.shape}\\nTransposed array shape: {xt.shape}\")"
   ]
  },
  {
   "cell_type": "markdown",
   "metadata": {
    "id": "Glyr7_ijsrIj"
   },
   "source": [
    "### <u>Reduction operations</u>"
   ]
  },
  {
   "cell_type": "code",
   "execution_count": 11,
   "metadata": {
    "colab": {
     "base_uri": "https://localhost:8080/"
    },
    "id": "aOjL2vZVsrIj",
    "executionInfo": {
     "status": "ok",
     "timestamp": 1707471880478,
     "user_tz": -120,
     "elapsed": 18,
     "user": {
      "displayName": "Michail Raptakis",
      "userId": "13076296806103248309"
     }
    },
    "outputId": "58aadb8b-51ec-4489-cf5b-28dcd5bc22b9"
   },
   "outputs": [
    {
     "name": "stdout",
     "output_type": "stream",
     "text": [
      " x =\n",
      "[[1 2 3]\n",
      " [4 5 6]]\n",
      "Sum of all elements of 2D array x:\n",
      "x.sum() = 21, or np.sum(x) = 21\n",
      "Product of all elements of 2D array x:\n",
      "x.prod() = 720, or np.prod(x) = 720\n"
     ]
    }
   ],
   "source": [
    "print(f\" x =\\n{x}\")\n",
    "print(f\"Sum of all elements of 2D array x:\\nx.sum() = {x.sum()}, or np.sum(x) = {np.sum(x)}\")\n",
    "print(f\"Product of all elements of 2D array x:\\nx.prod() = {x.prod()}, or np.prod(x) = {np.prod(x)}\")"
   ]
  },
  {
   "cell_type": "code",
   "execution_count": 12,
   "metadata": {
    "colab": {
     "base_uri": "https://localhost:8080/"
    },
    "id": "Kq21WXgDsrIj",
    "executionInfo": {
     "status": "ok",
     "timestamp": 1707471880478,
     "user_tz": -120,
     "elapsed": 16,
     "user": {
      "displayName": "Michail Raptakis",
      "userId": "13076296806103248309"
     }
    },
    "outputId": "3c8ded7b-25aa-4550-a229-1e45003f1b5c"
   },
   "outputs": [
    {
     "name": "stdout",
     "output_type": "stream",
     "text": [
      " x =\n",
      "[[1 2 3]\n",
      " [4 5 6]]\n",
      "Sum of all elements of a x across axis 0 (i.e., x[0] + x[1]):\n",
      " x.sum(axis=0) = [5 7 9], or np.sum(x, axis=0) = [5 7 9]\n",
      "Product of all elements of x across axis 1 (i.e., x[:, 0] * x[:, 1] * x[:, 2]):\n",
      " x.prod(axis=1) = [  6 120], or np.prod(x, axis=1) = [  6 120]\n"
     ]
    }
   ],
   "source": [
    "print(f\" x =\\n{x}\")\n",
    "print(f\"Sum of all elements of a x across axis 0 (i.e., x[0] + x[1]):\\n x.sum(axis=0) = {x.sum(axis=0)}, or np.sum(x, axis=0) = {np.sum(x, axis=0)}\")\n",
    "print(f\"Product of all elements of x across axis 1 (i.e., x[:, 0] * x[:, 1] * x[:, 2]):\\n x.prod(axis=1) = {x.prod(axis=1)}, or np.prod(x, axis=1) = {np.prod(x, axis=1)}\")"
   ]
  },
  {
   "cell_type": "markdown",
   "metadata": {
    "id": "PfwV8y5MsrIj"
   },
   "source": [
    "### <u>A Few Notable Numpy arrays</u>"
   ]
  },
  {
   "cell_type": "markdown",
   "metadata": {
    "id": "4KyGauGosrIj"
   },
   "source": [
    "- <b>Range vector</b>: Create a 1D array of a range of numbers beginning from `start`, with `step` distance among them, ending at `stop-step`:"
   ]
  },
  {
   "cell_type": "code",
   "execution_count": 13,
   "metadata": {
    "colab": {
     "base_uri": "https://localhost:8080/"
    },
    "id": "wXc5jJugsrIj",
    "executionInfo": {
     "status": "ok",
     "timestamp": 1707471880478,
     "user_tz": -120,
     "elapsed": 13,
     "user": {
      "displayName": "Michail Raptakis",
      "userId": "13076296806103248309"
     }
    },
    "outputId": "6f4cadb3-bd78-44e0-d89e-d270e7d93768"
   },
   "outputs": [
    {
     "name": "stdout",
     "output_type": "stream",
     "text": [
      "x = [0 1 2 3 4]\n",
      "y = [1.  1.1 1.2 1.3 1.4 1.5 1.6 1.7 1.8 1.9]\n",
      "z = [10  8  6  4  2]\n"
     ]
    }
   ],
   "source": [
    "x = np.arange(stop=5)\n",
    "y = np.arange(start=1, stop=2, step=0.1)\n",
    "z = np.arange(start=10, stop=0, step=-2)\n",
    "\n",
    "print(f\"x = {x}\\ny = {y}\\nz = {z}\")"
   ]
  },
  {
   "cell_type": "markdown",
   "metadata": {
    "id": "YzqXfhpesrIj"
   },
   "source": [
    "- <b>Identity matrix</b>: $N\\times N$ matrix with ones on the diagonal, and zeros elsewhere, so you just need to specify the dimension ($N$):"
   ]
  },
  {
   "cell_type": "code",
   "execution_count": 14,
   "metadata": {
    "colab": {
     "base_uri": "https://localhost:8080/"
    },
    "id": "i7leYa43srIj",
    "executionInfo": {
     "status": "ok",
     "timestamp": 1707471880479,
     "user_tz": -120,
     "elapsed": 12,
     "user": {
      "displayName": "Michail Raptakis",
      "userId": "13076296806103248309"
     }
    },
    "outputId": "2de55942-4b61-4ac6-842c-67eee54b49b8"
   },
   "outputs": [
    {
     "name": "stdout",
     "output_type": "stream",
     "text": [
      "[[1. 0. 0.]\n",
      " [0. 1. 0.]\n",
      " [0. 0. 1.]]\n"
     ]
    }
   ],
   "source": [
    "print(np.eye(3))"
   ]
  },
  {
   "cell_type": "markdown",
   "metadata": {
    "id": "lYj-w0nvsrIj"
   },
   "source": [
    "- <b>Array of ones</b>: Array of all ones. You need to specify the shape. If you pass an integer $n$, the shape will be $(n,)$.\n",
    "\n",
    "Example: $2\\times 4$ matrix of ones."
   ]
  },
  {
   "cell_type": "code",
   "execution_count": 15,
   "metadata": {
    "colab": {
     "base_uri": "https://localhost:8080/"
    },
    "id": "SyQFywS6srIj",
    "executionInfo": {
     "status": "ok",
     "timestamp": 1707471880479,
     "user_tz": -120,
     "elapsed": 10,
     "user": {
      "displayName": "Michail Raptakis",
      "userId": "13076296806103248309"
     }
    },
    "outputId": "38b6a3b4-a408-455c-c80f-65df925a3221"
   },
   "outputs": [
    {
     "name": "stdout",
     "output_type": "stream",
     "text": [
      "[[1. 1. 1. 1.]\n",
      " [1. 1. 1. 1.]]\n"
     ]
    }
   ],
   "source": [
    "print(np.ones((2, 4)))"
   ]
  },
  {
   "cell_type": "markdown",
   "metadata": {
    "id": "WyA3l_oIsrIk"
   },
   "source": [
    "- <b>Array of zeros</b>: Array of all zeros. You need to specify the shape. If you pass an integer $n$, the shape will be $(n,)$.\n",
    "\n",
    "Example: vector of $4$ zeros."
   ]
  },
  {
   "cell_type": "code",
   "execution_count": 16,
   "metadata": {
    "colab": {
     "base_uri": "https://localhost:8080/"
    },
    "id": "PSHpMRJ9srIk",
    "executionInfo": {
     "status": "ok",
     "timestamp": 1707471881012,
     "user_tz": -120,
     "elapsed": 542,
     "user": {
      "displayName": "Michail Raptakis",
      "userId": "13076296806103248309"
     }
    },
    "outputId": "6f9e29eb-cb17-4bba-b457-4bbef9154c40"
   },
   "outputs": [
    {
     "name": "stdout",
     "output_type": "stream",
     "text": [
      "[0. 0. 0. 0.]\n"
     ]
    }
   ],
   "source": [
    "print(np.zeros(4))"
   ]
  },
  {
   "cell_type": "markdown",
   "metadata": {
    "id": "B6gTYgRcsrIk"
   },
   "source": [
    "### <u>Concatenating NumPy arrays</u>\n",
    "\n",
    "Numpy allows you to concatenate array along one axis, as long as they have the same dimensions on the others. This is helpful for joining multiple data sources into one (e.g., concatenate them along the first axis, i.e., `axis=0`), or for adding an extra column to your data (e.g., add it as the last axis, i.e., `axis=-1`), etc.\n",
    "\n",
    "Here is an example:"
   ]
  },
  {
   "cell_type": "code",
   "execution_count": 17,
   "metadata": {
    "colab": {
     "base_uri": "https://localhost:8080/"
    },
    "id": "8VG5uY44srIk",
    "executionInfo": {
     "status": "ok",
     "timestamp": 1707471881012,
     "user_tz": -120,
     "elapsed": 22,
     "user": {
      "displayName": "Michail Raptakis",
      "userId": "13076296806103248309"
     }
    },
    "outputId": "505d8cdf-028d-45b1-8f32-b8000c0b7fc0"
   },
   "outputs": [
    {
     "name": "stdout",
     "output_type": "stream",
     "text": [
      "x =\n",
      "[[1. 1.]\n",
      " [1. 1.]\n",
      " [1. 1.]\n",
      " [1. 1.]]\n",
      "y =\n",
      "[[0.]\n",
      " [0.]\n",
      " [0.]\n",
      " [0.]]\n",
      "z = np.concatenate([x, y], axis=-1) =\n",
      "[[1. 1. 0.]\n",
      " [1. 1. 0.]\n",
      " [1. 1. 0.]\n",
      " [1. 1. 0.]]\n"
     ]
    }
   ],
   "source": [
    "x = np.ones((4, 2))\n",
    "y = np.zeros((4, 1))\n",
    "print(f\"x =\\n{x}\\ny =\\n{y}\")\n",
    "z = np.concatenate([x, y], axis=-1)\n",
    "print(f\"z = np.concatenate([x, y], axis=-1) =\\n{z}\")"
   ]
  },
  {
   "cell_type": "markdown",
   "metadata": {
    "id": "Rvcfof3_srIk"
   },
   "source": [
    "### <u>Reshaping arrays</u>\n",
    "\n",
    "You can change the shape of an array, as long as it is consistent with its size (i.e., the total number of elements). This operation is called *reshaping*.\n",
    "\n",
    "For example, you can reshape an array with shape $(8,)$ into one with shape $(2, 4)$, or shape $(2, 2, 2)$:"
   ]
  },
  {
   "cell_type": "code",
   "execution_count": 18,
   "metadata": {
    "colab": {
     "base_uri": "https://localhost:8080/"
    },
    "id": "P0-BfbpUsrIk",
    "executionInfo": {
     "status": "ok",
     "timestamp": 1707471881013,
     "user_tz": -120,
     "elapsed": 22,
     "user": {
      "displayName": "Michail Raptakis",
      "userId": "13076296806103248309"
     }
    },
    "outputId": "13237057-69e0-48a9-8770-eec859466b88"
   },
   "outputs": [
    {
     "name": "stdout",
     "output_type": "stream",
     "text": [
      "x =\n",
      " [0 1 2 3 4 5 6 7]\n",
      "x.reshape((2, 4)) =\n",
      " [[0 1 2 3]\n",
      " [4 5 6 7]]\n",
      "x.reshape((2, 2, 2)) =\n",
      " [[[0 1]\n",
      "  [2 3]]\n",
      "\n",
      " [[4 5]\n",
      "  [6 7]]]\n"
     ]
    }
   ],
   "source": [
    "x = np.arange(8)\n",
    "print(f\"x =\\n {x}\")\n",
    "print(f\"x.reshape((2, 4)) =\\n {x.reshape((2, 4))}\")\n",
    "print(f\"x.reshape((2, 2, 2)) =\\n {x.reshape((2, 2, 2))}\")"
   ]
  },
  {
   "cell_type": "markdown",
   "metadata": {
    "id": "Cj7ngCLHsrIr"
   },
   "source": [
    "## <u> 3D Arrays and Beyond </u>\n",
    "\n",
    "In many machine learning cases, you will have to deal with datasets having a dimensionality of 3 or higher.\n",
    "\n",
    "Examples:\n",
    "- Time series datasets (e.g., sensor data) have shape `(n_datapoints, sequence_len, n_features)`.\n",
    "- Image datasets have shape `(n_datapoints, height, width)` for greyscale images, and `(n_datapoints, height, width, n_channels)` for color images."
   ]
  },
  {
   "cell_type": "code",
   "execution_count": 19,
   "metadata": {
    "colab": {
     "base_uri": "https://localhost:8080/"
    },
    "id": "E_ncKeSGsrIr",
    "executionInfo": {
     "status": "ok",
     "timestamp": 1707471881014,
     "user_tz": -120,
     "elapsed": 22,
     "user": {
      "displayName": "Michail Raptakis",
      "userId": "13076296806103248309"
     }
    },
    "outputId": "7d2db1f4-b724-470a-df53-0d3b9638893d"
   },
   "outputs": [
    {
     "name": "stdout",
     "output_type": "stream",
     "text": [
      "Shape of x: (8, 10, 3)\n"
     ]
    }
   ],
   "source": [
    "x = np.arange(8*10*3)\n",
    "x = x.reshape(8, 10, 3)\n",
    "print(\"Shape of x:\", x.shape)"
   ]
  },
  {
   "cell_type": "markdown",
   "metadata": {
    "id": "PPocXy1nsrIr"
   },
   "source": [
    "### <u>2D vs 3D+ matrix multiplication</u>"
   ]
  },
  {
   "cell_type": "markdown",
   "metadata": {
    "id": "kL9yMNLtsrIr"
   },
   "source": [
    "2D matrix multiplication is straightforward: you have two matrices: $x$ of shape $(m, k)$ and $y$ of shape $(k, n)$, and they get multiplied row-by-column. The result is a matrix of shape $(m, n)$:"
   ]
  },
  {
   "cell_type": "code",
   "execution_count": 20,
   "metadata": {
    "colab": {
     "base_uri": "https://localhost:8080/"
    },
    "id": "FdmdDkZnsrIr",
    "executionInfo": {
     "status": "ok",
     "timestamp": 1707471881014,
     "user_tz": -120,
     "elapsed": 20,
     "user": {
      "displayName": "Michail Raptakis",
      "userId": "13076296806103248309"
     }
    },
    "outputId": "e4e2348f-379e-4254-d6a3-1f6b43ab31d8"
   },
   "outputs": [
    {
     "name": "stdout",
     "output_type": "stream",
     "text": [
      "(4, 3) x (3, 5) = (4, 5)\n"
     ]
    }
   ],
   "source": [
    "x = np.arange(12).reshape((4, 3))\n",
    "y = np.arange(15).reshape((3, 5))\n",
    "z = x @ y\n",
    "print(f\"{x.shape} x {y.shape} = {z.shape}\")"
   ]
  },
  {
   "cell_type": "markdown",
   "metadata": {
    "id": "tqNA48wLsrIr"
   },
   "source": [
    "However, what does it mean to multiply two 3D or 4D arrays?\n",
    "In Numpy, this operation is done by treating multidimensional arrays as collections of 2D arrays.\n",
    "In other words, it is like doing several matrix multiplications in parallel.\n",
    "Multidimensional arrays are multiplied along the last two axes, meaning that the dimensions that should match are the last two.\n",
    "\n",
    "For example, suppose you have an array $x$ of shape $(8, 4, 3)$ and another array $y$ of shape $(8, 3, 5)$.\n",
    "If you multiply them, it will be like multiplying $8$ different matrix pairs of shapes $(4, 3)$ and $(3, 5)$:"
   ]
  },
  {
   "cell_type": "code",
   "execution_count": 21,
   "metadata": {
    "colab": {
     "base_uri": "https://localhost:8080/"
    },
    "id": "udY8dkCvsrIr",
    "executionInfo": {
     "status": "ok",
     "timestamp": 1707471881015,
     "user_tz": -120,
     "elapsed": 18,
     "user": {
      "displayName": "Michail Raptakis",
      "userId": "13076296806103248309"
     }
    },
    "outputId": "827cf77b-4d43-4f06-cd1c-3cea0ac52f1a"
   },
   "outputs": [
    {
     "name": "stdout",
     "output_type": "stream",
     "text": [
      "(8, 4, 3) x (8, 3, 5) = (8, 4, 5)\n"
     ]
    }
   ],
   "source": [
    "x = np.arange(8*12).reshape((8, 4, 3))\n",
    "y = np.arange(8*15).reshape((8, 3, 5))\n",
    "z = x @ y\n",
    "print(f\"{x.shape} x {y.shape} = {z.shape}\")"
   ]
  },
  {
   "cell_type": "markdown",
   "metadata": {
    "id": "TfIsF5x4srIs"
   },
   "source": [
    "## <u>Random number generation & distributions with NumPy</u>"
   ]
  },
  {
   "cell_type": "code",
   "execution_count": 22,
   "metadata": {
    "id": "yKMkNVAssrIs",
    "executionInfo": {
     "status": "ok",
     "timestamp": 1707471881015,
     "user_tz": -120,
     "elapsed": 15,
     "user": {
      "displayName": "Michail Raptakis",
      "userId": "13076296806103248309"
     }
    }
   },
   "outputs": [],
   "source": [
    "# seed for pseudo-random number generation (for reproducibility)\n",
    "seed = 42\n",
    "np.random.seed(seed)"
   ]
  },
  {
   "cell_type": "code",
   "execution_count": 23,
   "metadata": {
    "colab": {
     "base_uri": "https://localhost:8080/"
    },
    "id": "AN5viJkgsrIs",
    "executionInfo": {
     "status": "ok",
     "timestamp": 1707471881015,
     "user_tz": -120,
     "elapsed": 14,
     "user": {
      "displayName": "Michail Raptakis",
      "userId": "13076296806103248309"
     }
    },
    "outputId": "c83729bc-5f01-492b-8117-679a18e26cc8"
   },
   "outputs": [
    {
     "name": "stdout",
     "output_type": "stream",
     "text": [
      "10 random integers in U[-5, 5]:\n",
      "[ 1 -2  2 ... -3  4 -1]\n"
     ]
    }
   ],
   "source": [
    "# Generate random integers uniformly between low and high\n",
    "a_uni = -5\n",
    "b_uni = 5\n",
    "num_points = 10000\n",
    "x_uint = np.random.randint(low=a_uni, high=b_uni, size=num_points)\n",
    "print(f\"10 random integers in U[-5, 5]:\\n{x_uint}\")"
   ]
  },
  {
   "cell_type": "code",
   "execution_count": 24,
   "metadata": {
    "colab": {
     "base_uri": "https://localhost:8080/"
    },
    "id": "JEH48ipcsrIs",
    "executionInfo": {
     "status": "ok",
     "timestamp": 1707471881015,
     "user_tz": -120,
     "elapsed": 13,
     "user": {
      "displayName": "Michail Raptakis",
      "userId": "13076296806103248309"
     }
    },
    "outputId": "5247b290-3dbd-422b-bdb3-541967cdbfcc"
   },
   "outputs": [
    {
     "name": "stdout",
     "output_type": "stream",
     "text": [
      "10000 random floats in U[3, 10]:\n",
      "[9.87856688 7.45933287 4.13146386 ... 5.80861    6.00892021 4.03724411]\n"
     ]
    }
   ],
   "source": [
    "# Generate float numbers uniformly in the interval [a, b]\n",
    "a = 3\n",
    "b = 10\n",
    "num_points = 10000\n",
    "x_unif = np.random.uniform(low=a, high=b, size=num_points)\n",
    "print(f\"{num_points} random floats in U[{a}, {b}]:\\n{x_unif}\")\n",
    "# alternative way:\n",
    "# x_unif = (b-a)*np.random.rand(num_points) + a"
   ]
  },
  {
   "cell_type": "markdown",
   "source": [
    "Plotting:"
   ],
   "metadata": {
    "id": "2z5eTIa99bcX"
   }
  },
  {
   "cell_type": "code",
   "execution_count": 25,
   "metadata": {
    "id": "gg--H0txsrIs",
    "executionInfo": {
     "status": "ok",
     "timestamp": 1707471881015,
     "user_tz": -120,
     "elapsed": 11,
     "user": {
      "displayName": "Michail Raptakis",
      "userId": "13076296806103248309"
     }
    }
   },
   "outputs": [],
   "source": [
    "import matplotlib.pyplot as plt"
   ]
  },
  {
   "cell_type": "code",
   "execution_count": 26,
   "metadata": {
    "colab": {
     "base_uri": "https://localhost:8080/",
     "height": 452
    },
    "id": "mXCw6MjtsrIs",
    "executionInfo": {
     "status": "ok",
     "timestamp": 1707471881015,
     "user_tz": -120,
     "elapsed": 11,
     "user": {
      "displayName": "Michail Raptakis",
      "userId": "13076296806103248309"
     }
    },
    "outputId": "1d2fd874-d61c-4a36-d1a4-7d2fc9f57aeb"
   },
   "outputs": [
    {
     "data": {
      "text/plain": "<Figure size 640x480 with 1 Axes>",
      "image/png": "[encoded data removed]"
     },
     "metadata": {},
     "output_type": "display_data"
    }
   ],
   "source": [
    "plt.figure()\n",
    "plt.hist(x_unif, bins=12)\n",
    "plt.title(\"x_unit\")\n",
    "plt.show()\n",
    "plt.close()"
   ]
  },
  {
   "cell_type": "code",
   "execution_count": 27,
   "metadata": {
    "id": "9veTQmIWsrIs",
    "executionInfo": {
     "status": "ok",
     "timestamp": 1707471881016,
     "user_tz": -120,
     "elapsed": 10,
     "user": {
      "displayName": "Michail Raptakis",
      "userId": "13076296806103248309"
     }
    }
   },
   "outputs": [],
   "source": [
    "# generate normally-distributed data with specified mean and std:\n",
    "mu = 5\n",
    "sigma = 2\n",
    "num_points = 10000\n",
    "x_norm = np.random.normal(loc=mu, scale=sigma, size=num_points)\n",
    "# alternative way:\n",
    "# x_norm = sigma*np.random.randn(num_points) + mu"
   ]
  },
  {
   "cell_type": "code",
   "execution_count": 28,
   "metadata": {
    "colab": {
     "base_uri": "https://localhost:8080/",
     "height": 452
    },
    "id": "rkifeiRrsrIs",
    "executionInfo": {
     "status": "ok",
     "timestamp": 1707471881504,
     "user_tz": -120,
     "elapsed": 498,
     "user": {
      "displayName": "Michail Raptakis",
      "userId": "13076296806103248309"
     }
    },
    "outputId": "af755624-0c74-43c9-f416-1d4caf71a0f7"
   },
   "outputs": [
    {
     "data": {
      "text/plain": "<Figure size 640x480 with 1 Axes>",
      "image/png": "[encoded data removed]"
     },
     "metadata": {},
     "output_type": "display_data"
    }
   ],
   "source": [
    "plt.figure()\n",
    "plt.hist(x_norm, bins=20, label='data')\n",
    "plt.title(\"x_norm\")\n",
    "plt.vlines([mu-sigma, mu+sigma], 0, 2000, linestyles='--', colors=['green', 'green'], label='67% CI')\n",
    "plt.vlines([mu-2*sigma, mu+2*sigma], 0, 2000, linestyles='--', colors=['orange', 'orange'], label='96% CI')\n",
    "plt.vlines([mu-3*sigma, mu+3*sigma], 0, 2000, linestyles='--', colors=['red', 'red'], label='99% CI')\n",
    "plt.legend()\n",
    "plt.show()\n",
    "plt.close()"
   ]
  },
  {
   "cell_type": "code",
   "source": [],
   "metadata": {
    "id": "MiiSE4Y1lobx",
    "executionInfo": {
     "status": "ok",
     "timestamp": 1707471881505,
     "user_tz": -120,
     "elapsed": 8,
     "user": {
      "displayName": "Michail Raptakis",
      "userId": "13076296806103248309"
     }
    }
   },
   "execution_count": 28,
   "outputs": []
  }
 ],
 "metadata": {
  "kernelspec": {
   "display_name": "hy673",
   "language": "python",
   "name": "python3"
  },
  "language_info": {
   "codemirror_mode": {
    "name": "ipython",
    "version": 3
   },
   "file_extension": ".py",
   "mimetype": "text/x-python",
   "name": "python",
   "nbconvert_exporter": "python",
   "pygments_lexer": "ipython3",
   "version": "3.10.9"
  },
  "orig_nbformat": 4,
  "vscode": {
   "interpreter": {
    "hash": "898d28840f55b3c5c9a615fda231169adc20c90e3e87a937f55caa36837c15d9"
   }
  },
  "colab": {
   "provenance": []
  }
 },
 "nbformat": 4,
 "nbformat_minor": 0
}
