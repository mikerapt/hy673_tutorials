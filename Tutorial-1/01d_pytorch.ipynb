{
 "cells": [
  {
   "cell_type": "markdown",
   "metadata": {
    "id": "AVNJkYX9ony6"
   },
   "source": [
    "# <u>PyTorch</u>\n",
    "\n",
    "NumPy's arrays and PyTorch's tensors are handled very similarly, but there are differences as well."
   ]
  },
  {
   "cell_type": "code",
   "execution_count": 1,
   "metadata": {
    "id": "A9tNe298ony8"
   },
   "outputs": [],
   "source": [
    "import numpy as np\n",
    "import torch as tc"
   ]
  },
  {
   "cell_type": "markdown",
   "metadata": {
    "id": "mWiP9jBbony8"
   },
   "source": [
    "### <u>Lists, arrays, and tensors</u>\n",
    "\n",
    "We can convert lists to NumPy arrays as we've seen, so, similarly, we can convert NumPy arrays into PyTorch tensors, and vice-versa:"
   ]
  },
  {
   "cell_type": "code",
   "execution_count": 2,
   "metadata": {
    "colab": {
     "base_uri": "https://localhost:8080/"
    },
    "id": "pwp8upetony9",
    "executionInfo": {
     "status": "ok",
     "timestamp": 1707248780404,
     "user_tz": -120,
     "elapsed": 20,
     "user": {
      "displayName": "Michail Raptakis",
      "userId": "13076296806103248309"
     }
    },
    "outputId": "e7c32637-c063-454a-a355-cc89c26f39ce"
   },
   "outputs": [
    {
     "name": "stdout",
     "output_type": "stream",
     "text": [
      "Type of x_list:       <class 'list'>\n",
      "Convert to array:     <class 'numpy.ndarray'>\n",
      "Convert to tensor:    <class 'torch.Tensor'>\n",
      "Convert back to list: <class 'list'>\n"
     ]
    }
   ],
   "source": [
    "x_list = [3.14, 2.71, 42]\n",
    "print(\"Type of x_list:      \", type(x_list))\n",
    "x_array = np.asarray(x_list)\n",
    "print(\"Convert to array:    \", type(x_array))\n",
    "x_tensor = tc.tensor(x_list)\n",
    "print(\"Convert to tensor:   \", type(x_tensor))\n",
    "x_list = x_tensor.tolist()\n",
    "print(\"Convert back to list:\", type(x_list))"
   ]
  },
  {
   "cell_type": "markdown",
   "source": [
    "Be careful when converting though! E.g., when you use `x_tensor.numpy()`, whatever you do to the array will reflect on the tensor:"
   ],
   "metadata": {
    "id": "oPg9r23nrGXP"
   }
  },
  {
   "cell_type": "code",
   "execution_count": 3,
   "metadata": {
    "colab": {
     "base_uri": "https://localhost:8080/"
    },
    "id": "f_oPdckIony9",
    "executionInfo": {
     "status": "ok",
     "timestamp": 1707248780404,
     "user_tz": -120,
     "elapsed": 18,
     "user": {
      "displayName": "Michail Raptakis",
      "userId": "13076296806103248309"
     }
    },
    "outputId": "58dfeed6-b8b5-4d79-ea5f-6c606e6ffdd4"
   },
   "outputs": [
    {
     "name": "stdout",
     "output_type": "stream",
     "text": [
      "Before: x_array = [ 3.14  2.71 42.  ], x_tensor = tensor([ 3.1400,  2.7100, 42.0000])\n",
      "After:  x_array = [ 3.    2.71 42.  ], x_tensor = tensor([ 3.0000,  2.7100, 42.0000])\n"
     ]
    }
   ],
   "source": [
    "print(f\"Before: x_array = {x_array}, x_tensor = {x_tensor}\")\n",
    "x_array = x_tensor.numpy()\n",
    "x_array[0] = 3\n",
    "print(f\"After:  x_array = {x_array}, x_tensor = {x_tensor}\")"
   ]
  },
  {
   "cell_type": "markdown",
   "source": [
    "Το avoid this behavior, you can use the `copy()`:"
   ],
   "metadata": {
    "id": "p9MQQVmFVbNY"
   }
  },
  {
   "cell_type": "code",
   "execution_count": 4,
   "metadata": {
    "colab": {
     "base_uri": "https://localhost:8080/"
    },
    "id": "fYtxZxpUony9",
    "executionInfo": {
     "status": "ok",
     "timestamp": 1707248780404,
     "user_tz": -120,
     "elapsed": 17,
     "user": {
      "displayName": "Michail Raptakis",
      "userId": "13076296806103248309"
     }
    },
    "outputId": "417c8c7f-b0c1-4fe2-ca6c-b7965aea890b"
   },
   "outputs": [
    {
     "name": "stdout",
     "output_type": "stream",
     "text": [
      "Before: x_array = [ 3.14  2.71 42.  ], x_tensor = tensor([ 3.1400,  2.7100, 42.0000])\n",
      "After:  x_array = [ 3.    2.71 42.  ], x_tensor = tensor([ 3.1400,  2.7100, 42.0000])\n"
     ]
    }
   ],
   "source": [
    "x_tensor = tc.tensor([3.14, 2.71, 42])\n",
    "x_array = x_tensor.numpy().copy()\n",
    "print(f\"Before: x_array = {x_array}, x_tensor = {x_tensor}\")\n",
    "x_array[0] = 3\n",
    "print(f\"After:  x_array = {x_array}, x_tensor = {x_tensor}\")"
   ]
  },
  {
   "cell_type": "markdown",
   "source": [
    "Slicing tensors is also possible as in the case of NumPy arrays `mytensor[start:stop:step]`:"
   ],
   "metadata": {
    "id": "mSQgUFiSV_k5"
   }
  },
  {
   "cell_type": "code",
   "execution_count": 5,
   "metadata": {
    "colab": {
     "base_uri": "https://localhost:8080/"
    },
    "id": "5btIzNNmony9",
    "executionInfo": {
     "status": "ok",
     "timestamp": 1707248780404,
     "user_tz": -120,
     "elapsed": 16,
     "user": {
      "displayName": "Michail Raptakis",
      "userId": "13076296806103248309"
     }
    },
    "outputId": "3e9270e7-c66b-4418-ce9c-3641190c3f15"
   },
   "outputs": [
    {
     "name": "stdout",
     "output_type": "stream",
     "text": [
      "tensor([2, 0]) tensor([6, 7])\n"
     ]
    }
   ],
   "source": [
    "x1 = tc.tensor([3, 2, 1, 0])\n",
    "x2 = tc.tensor([5, 6, 7, 8])\n",
    "print(x1[1:4:2], x2[1:-1])"
   ]
  },
  {
   "cell_type": "markdown",
   "source": [
    "But, some slice operations like reversing `x1[::-1]` do not work with tensors, because `step` is required to be greater than 0. However, do not rush to implement a reverse function either. If we just googled, we'd see that there is a function for that already called `flip()`:"
   ],
   "metadata": {
    "id": "4f214ahxWIJ8"
   }
  },
  {
   "cell_type": "code",
   "execution_count": 6,
   "metadata": {
    "colab": {
     "base_uri": "https://localhost:8080/"
    },
    "id": "IlKe8VjUony9",
    "executionInfo": {
     "status": "ok",
     "timestamp": 1707248780404,
     "user_tz": -120,
     "elapsed": 16,
     "user": {
      "displayName": "Michail Raptakis",
      "userId": "13076296806103248309"
     }
    },
    "outputId": "327c2757-4bd7-4434-a0fa-c01318f45915"
   },
   "outputs": [
    {
     "name": "stdout",
     "output_type": "stream",
     "text": [
      "x1 = tensor([3, 2, 1, 0])\n",
      "x1.flip(0) = tensor([0, 1, 2, 3])\n"
     ]
    }
   ],
   "source": [
    "print(f\"x1 = {x1}\\nx1.flip(0) = {x1.flip(0)}\")"
   ]
  },
  {
   "cell_type": "markdown",
   "source": [
    "All the standard math operations are overloaded to work with tensors too:"
   ],
   "metadata": {
    "id": "zOdIFiGcXZXo"
   }
  },
  {
   "cell_type": "code",
   "execution_count": 7,
   "metadata": {
    "colab": {
     "base_uri": "https://localhost:8080/"
    },
    "id": "lEfOdkBOony-",
    "executionInfo": {
     "status": "ok",
     "timestamp": 1707248780404,
     "user_tz": -120,
     "elapsed": 15,
     "user": {
      "displayName": "Michail Raptakis",
      "userId": "13076296806103248309"
     }
    },
    "outputId": "f6220bb2-7a6f-4708-c21f-ca5baa3e83e0"
   },
   "outputs": [
    {
     "name": "stdout",
     "output_type": "stream",
     "text": [
      " x1 = tensor([3, 2, 1, 0])\n",
      " x2 = tensor([5, 6, 7, 8])\n",
      "Element-wise sum:\n",
      " x1 + x2 = tensor([8, 8, 8, 8])\n",
      "Element-wise product:\n",
      " x1 * x2 = tensor([15, 12,  7,  0])\n",
      "Dot product:\n",
      " x1 @ x2 = 34\n"
     ]
    }
   ],
   "source": [
    "print(f\" x1 = {x1}\\n x2 = {x2}\")\n",
    "print(f\"Element-wise sum:\\n x1 + x2 = {x1 + x2}\")\n",
    "print(f\"Element-wise product:\\n x1 * x2 = {x1 * x2}\")\n",
    "print(f\"Dot product:\\n x1 @ x2 = {x1 @ x2}\")"
   ]
  },
  {
   "cell_type": "code",
   "execution_count": 8,
   "metadata": {
    "colab": {
     "base_uri": "https://localhost:8080/"
    },
    "id": "2IENFooFony-",
    "executionInfo": {
     "status": "ok",
     "timestamp": 1707248780404,
     "user_tz": -120,
     "elapsed": 14,
     "user": {
      "displayName": "Michail Raptakis",
      "userId": "13076296806103248309"
     }
    },
    "outputId": "b4f99fb4-8de4-4b81-fd98-ccc24b58384e"
   },
   "outputs": [
    {
     "name": "stdout",
     "output_type": "stream",
     "text": [
      " x1 = tensor([3, 2, 1, 0])\n",
      " x2 = tensor([5, 6, 7, 8])\n",
      "Add a scalar:\n",
      " x1 + 2 = tensor([5, 4, 3, 2])\n",
      "Multiply by a scalar:\n",
      " x1 * 2 = tensor([6, 4, 2, 0])\n",
      "Raise to a scalar power:\n",
      " x1 ** 2 = tensor([9, 4, 1, 0])\n"
     ]
    }
   ],
   "source": [
    "print(f\" x1 = {x1}\\n x2 = {x2}\")\n",
    "print(f\"Add a scalar:\\n x1 + 2 = {x1 + 2}\")\n",
    "print(f\"Multiply by a scalar:\\n x1 * 2 = {x1 * 2}\")\n",
    "print(f\"Raise to a scalar power:\\n x1 ** 2 = {x1 ** 2}\")"
   ]
  },
  {
   "cell_type": "code",
   "execution_count": 9,
   "metadata": {
    "colab": {
     "base_uri": "https://localhost:8080/"
    },
    "id": "-E5Yrmehony-",
    "executionInfo": {
     "status": "ok",
     "timestamp": 1707248780404,
     "user_tz": -120,
     "elapsed": 13,
     "user": {
      "displayName": "Michail Raptakis",
      "userId": "13076296806103248309"
     }
    },
    "outputId": "aaf3bf18-5108-4d04-c59e-67182c42a1c7"
   },
   "outputs": [
    {
     "name": "stdout",
     "output_type": "stream",
     "text": [
      " x1 = tensor([3, 2, 1, 0])\n",
      " x2 = tensor([5, 6, 7, 8])\n",
      "Sum of all elements of a tensor:\n",
      " x1.sum() = 6, or tc.sum(x1) = 6\n",
      "Product of all elements of a tensor:\n",
      " x2.prod() = 1680, or tc.prod(x2) = 1680\n"
     ]
    }
   ],
   "source": [
    "print(f\" x1 = {x1}\\n x2 = {x2}\")\n",
    "print(f\"Sum of all elements of a tensor:\\n x1.sum() = {x1.sum()}, or tc.sum(x1) = {tc.sum(x1)}\")\n",
    "print(f\"Product of all elements of a tensor:\\n x2.prod() = {x2.prod()}, or tc.prod(x2) = {tc.prod(x2)}\")"
   ]
  },
  {
   "cell_type": "markdown",
   "metadata": {
    "id": "rXa_yfGrony-"
   },
   "source": [
    "## <u>`reshape()` vs `view()` in PyTorch tensors</u>\n",
    "\n",
    "On the surface, they appear to do the same thing:"
   ]
  },
  {
   "cell_type": "code",
   "execution_count": 10,
   "metadata": {
    "colab": {
     "base_uri": "https://localhost:8080/"
    },
    "id": "TZ8b_eGvony-",
    "executionInfo": {
     "status": "ok",
     "timestamp": 1707248780405,
     "user_tz": -120,
     "elapsed": 13,
     "user": {
      "displayName": "Michail Raptakis",
      "userId": "13076296806103248309"
     }
    },
    "outputId": "af0a610e-59c2-4107-8f15-39ce0b106fcc"
   },
   "outputs": [
    {
     "name": "stdout",
     "output_type": "stream",
     "text": [
      "x.shape = torch.Size([8, 4, 3])\n",
      "y.shape = torch.Size([8, 3, 5])\n",
      "z.shape = torch.Size([8, 4, 5])\n"
     ]
    }
   ],
   "source": [
    "x = tc.arange(8*12).view((8, 4, 3))\n",
    "y = tc.arange(8*15).reshape((8, 3, 5))\n",
    "z = x @ y\n",
    "\n",
    "print(f\"x.shape = {x.shape}\")\n",
    "print(f\"y.shape = {y.shape}\")\n",
    "print(f\"z.shape = {z.shape}\")"
   ]
  },
  {
   "cell_type": "markdown",
   "source": [
    "However, they are some important differences. In summary, two things:\n",
    "\n",
    "1) Use `view()` if you want to share memory and potentially avoid unnecessary data copying. `reshape()` <u>may</u> return a copy <u>or</u> a `view()` of the original tensor. I.e., there is no data sharing guarantee with `reshape()`. This fact has caused me headaches in the past, so, I stick with `view()`.\n",
    "\n",
    "2) `view()` only works if the tensor's data is contiguous. `reshape()` returns a new tensor with the desired shape, regardless of whether the original tensor is contiguous or not. This is the only case I would have to use `reshape()`.\n",
    "\n",
    "Let me quickly show you an example of what I mean by the second point:"
   ],
   "metadata": {
    "id": "Ehg5xErIq9bl"
   }
  },
  {
   "cell_type": "code",
   "source": [
    "x = tc.zeros(2, 3)\n",
    "print(f\"Original tensor:\\n x = {x}\")\n",
    "print(f\"\\nFlattening with view() works:\\n x.view(-1) = {x.view(-1)}\")\n",
    "y = x.t()\n",
    "print(f\"\\nTransposed tensor:\\n y = {y}\")\n",
    "print(f\"\\nview() will raise an error now if we do:\\n y.view(-1)\")\n",
    "print(f\"\\nBut reshape() works:\\n y.reshape(-1) = {y.reshape(-1)}\")"
   ],
   "metadata": {
    "colab": {
     "base_uri": "https://localhost:8080/"
    },
    "id": "oYJ7OuGQpUy1",
    "executionInfo": {
     "status": "ok",
     "timestamp": 1707248780405,
     "user_tz": -120,
     "elapsed": 12,
     "user": {
      "displayName": "Michail Raptakis",
      "userId": "13076296806103248309"
     }
    },
    "outputId": "5913dbeb-e64b-44c2-d1e0-6a53a6a0b763"
   },
   "execution_count": 11,
   "outputs": [
    {
     "name": "stdout",
     "output_type": "stream",
     "text": [
      "Original tensor:\n",
      " x = tensor([[0., 0., 0.],\n",
      "        [0., 0., 0.]])\n",
      "\n",
      "Flattening with view() works:\n",
      " x.view(-1) = tensor([0., 0., 0., 0., 0., 0.])\n",
      "\n",
      "Transposed tensor:\n",
      " y = tensor([[0., 0.],\n",
      "        [0., 0.],\n",
      "        [0., 0.]])\n",
      "\n",
      "view() will raise an error now if we do:\n",
      " y.view(-1)\n",
      "\n",
      "But reshape() works:\n",
      " y.reshape(-1) = tensor([0., 0., 0., 0., 0., 0.])\n"
     ]
    }
   ]
  },
  {
   "cell_type": "markdown",
   "metadata": {
    "id": "ADjZOKtTony-"
   },
   "source": [
    "## <u>Random number generation and distributions in PyTorch</u>"
   ]
  },
  {
   "cell_type": "code",
   "execution_count": 12,
   "metadata": {
    "colab": {
     "base_uri": "https://localhost:8080/"
    },
    "id": "aubsVGyHony-",
    "executionInfo": {
     "status": "ok",
     "timestamp": 1707248780405,
     "user_tz": -120,
     "elapsed": 12,
     "user": {
      "displayName": "Michail Raptakis",
      "userId": "13076296806103248309"
     }
    },
    "outputId": "428c8834-c7d1-4019-b7a6-3cad33a2c4a6"
   },
   "outputs": [
    {
     "data": {
      "text/plain": "<torch._C.Generator at 0x1d20b73f650>"
     },
     "execution_count": 12,
     "metadata": {},
     "output_type": "execute_result"
    }
   ],
   "source": [
    "seed = 42\n",
    "tc.manual_seed(seed)"
   ]
  },
  {
   "cell_type": "code",
   "execution_count": 13,
   "metadata": {
    "colab": {
     "base_uri": "https://localhost:8080/"
    },
    "id": "bmECv4QJony-",
    "executionInfo": {
     "status": "ok",
     "timestamp": 1707248780405,
     "user_tz": -120,
     "elapsed": 10,
     "user": {
      "displayName": "Michail Raptakis",
      "userId": "13076296806103248309"
     }
    },
    "outputId": "f3b15cdb-58cd-42d1-b682-e897ce8e45e4"
   },
   "outputs": [
    {
     "name": "stdout",
     "output_type": "stream",
     "text": [
      "10 random integers in U[-2, 3]: \n",
      "tensor([ 0,  0, -1,  2, -1, -2, -2,  2, -2,  1])\n"
     ]
    }
   ],
   "source": [
    "# Generate random integers uniformly between low and high\n",
    "low = -2\n",
    "high = 3\n",
    "num_points = 10\n",
    "\n",
    "# Difference with NumPy: size requires a shape\n",
    "x_int = tc.randint(low=low, high=high, size=(num_points,))\n",
    "print(f\"{num_points} random integers in U[{low}, {high}]: \\n{x_int}\")"
   ]
  },
  {
   "cell_type": "markdown",
   "source": [
    "Uniform distribution sampling example:"
   ],
   "metadata": {
    "id": "ldZ0MEo-7z1G"
   }
  },
  {
   "cell_type": "code",
   "execution_count": 18,
   "metadata": {
    "colab": {
     "base_uri": "https://localhost:8080/"
    },
    "id": "fXxUgOLRony_",
    "executionInfo": {
     "status": "ok",
     "timestamp": 1707248780405,
     "user_tz": -120,
     "elapsed": 9,
     "user": {
      "displayName": "Michail Raptakis",
      "userId": "13076296806103248309"
     }
    },
    "outputId": "7a8324da-e340-4676-8ac0-83c21c5a5b23"
   },
   "outputs": [
    {
     "name": "stdout",
     "output_type": "stream",
     "text": [
      "tensor([3.5193, 7.7388, 3.4846,  ..., 9.3376, 7.8766, 7.9197])\n",
      "tensor([4.3153, 4.7005, 7.4238,  ..., 3.3384, 6.4387, 7.7164])\n"
     ]
    }
   ],
   "source": [
    "# Generate float numbers uniformly in the interval [a, b]\n",
    "a = 3\n",
    "b = 10\n",
    "num_points = 10000\n",
    "\n",
    "# Using PyTorch's distributions:\n",
    "import torch.distributions as tc_dist\n",
    "x_unif = tc_dist.uniform.Uniform(low=a, high=b).sample((num_points,))\n",
    "print(x_unif)\n",
    "\n",
    "# Alternative without this requirement:\n",
    "x_unif = (b-a)*tc.rand(num_points) + a\n",
    "print(x_unif)"
   ]
  },
  {
   "cell_type": "markdown",
   "source": [
    "Gaussian distribution sampling example:"
   ],
   "metadata": {
    "id": "RoDhLQwr8TCF"
   }
  },
  {
   "cell_type": "code",
   "execution_count": 16,
   "metadata": {
    "colab": {
     "base_uri": "https://localhost:8080/"
    },
    "id": "TgqQW5X9ony_",
    "executionInfo": {
     "status": "ok",
     "timestamp": 1707248780405,
     "user_tz": -120,
     "elapsed": 9,
     "user": {
      "displayName": "Michail Raptakis",
      "userId": "13076296806103248309"
     }
    },
    "outputId": "565fb454-ddf2-4972-d1da-f7f66a75808d"
   },
   "outputs": [
    {
     "name": "stdout",
     "output_type": "stream",
     "text": [
      "tensor([-1.5047,  0.4778,  1.7173,  ...,  2.0729,  0.7615,  3.9844])\n",
      "tensor([ 2.1302,  1.4942,  0.9108,  ...,  0.9500,  3.0975, -1.3606])\n"
     ]
    }
   ],
   "source": [
    "mu = 1\n",
    "sigma = 2\n",
    "num_points = 10000\n",
    "\n",
    "# Using PyTorch's distributions:\n",
    "x_norm = tc_dist.normal.Normal(loc=mu, scale=sigma).sample((num_points,))\n",
    "print(x_norm)\n",
    "\n",
    "# Alternative without this requirement:\n",
    "x_norm = sigma*tc.randn(num_points) + mu\n",
    "print(x_norm)"
   ]
  },
  {
   "cell_type": "markdown",
   "source": [
    "Plotting:"
   ],
   "metadata": {
    "id": "pjnvdFo99Vac"
   }
  },
  {
   "cell_type": "code",
   "execution_count": null,
   "metadata": {
    "id": "cP3BcmP1ony_"
   },
   "outputs": [],
   "source": [
    "import matplotlib.pyplot as plt"
   ]
  },
  {
   "cell_type": "code",
   "execution_count": null,
   "metadata": {
    "colab": {
     "base_uri": "https://localhost:8080/",
     "height": 430
    },
    "id": "5CXNKebmony_",
    "executionInfo": {
     "status": "ok",
     "timestamp": 1707248781055,
     "user_tz": -120,
     "elapsed": 658,
     "user": {
      "displayName": "Michail Raptakis",
      "userId": "13076296806103248309"
     }
    },
    "outputId": "4155c663-9be7-43b0-bb87-59256bae9a21"
   },
   "outputs": [],
   "source": [
    "plt.figure()\n",
    "plt.hist(x_unif, bins=12)\n",
    "plt.show()\n",
    "plt.close()"
   ]
  },
  {
   "cell_type": "code",
   "execution_count": null,
   "metadata": {
    "colab": {
     "base_uri": "https://localhost:8080/",
     "height": 430
    },
    "id": "Vsc-dPx0ony_",
    "executionInfo": {
     "status": "ok",
     "timestamp": 1707248781055,
     "user_tz": -120,
     "elapsed": 32,
     "user": {
      "displayName": "Michail Raptakis",
      "userId": "13076296806103248309"
     }
    },
    "outputId": "1134968c-dcdf-4921-c7fd-f325a49638c4"
   },
   "outputs": [],
   "source": [
    "plt.figure()\n",
    "plt.hist(x_norm, bins=20, label='data')\n",
    "plt.vlines([mu-sigma, mu+sigma], 0, 2000, linestyles='--', colors=['green', 'green'], label='67% CI')\n",
    "plt.vlines([mu-2*sigma, mu+2*sigma], 0, 2000, linestyles='--', colors=['orange', 'orange'], label='96% CI')\n",
    "plt.vlines([mu-3*sigma, mu+3*sigma], 0, 2000, linestyles='--', colors=['red', 'red'], label='99% CI')\n",
    "plt.legend()\n",
    "plt.show()\n",
    "plt.close()"
   ]
  },
  {
   "cell_type": "code",
   "execution_count": null,
   "metadata": {
    "id": "ILy1mNpOony_"
   },
   "outputs": [],
   "source": []
  }
 ],
 "metadata": {
  "kernelspec": {
   "display_name": "hy673",
   "language": "python",
   "name": "python3"
  },
  "language_info": {
   "codemirror_mode": {
    "name": "ipython",
    "version": 3
   },
   "file_extension": ".py",
   "mimetype": "text/x-python",
   "name": "python",
   "nbconvert_exporter": "python",
   "pygments_lexer": "ipython3",
   "version": "3.10.9"
  },
  "orig_nbformat": 4,
  "vscode": {
   "interpreter": {
    "hash": "898d28840f55b3c5c9a615fda231169adc20c90e3e87a937f55caa36837c15d9"
   }
  },
  "colab": {
   "provenance": []
  }
 },
 "nbformat": 4,
 "nbformat_minor": 0
}
