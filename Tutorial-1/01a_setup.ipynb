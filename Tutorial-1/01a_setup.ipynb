{
 "cells": [
  {
   "cell_type": "markdown",
   "metadata": {
    "id": "vhq3hVh9NVMH"
   },
   "source": [
    "# <u> For all assignments regarding the course - **Please read** </u>\n",
    "\n",
    "1) **Code:** Python is an object-oriented interpreted script language, and all modern neural stuff is written almost exclusively in Python, so, we'll use this language for all coding assignments in this course as well. We will be working based on the latest Python and PyTorch versions. Despite that, there is no issue if you want to work with older Python/PyTorch versions. What is unworkable for me, however, is having to create a new environment in order grade each one of your deliverables. Hence, I would require that your submitted code runs <u>as delivered</u> on Google colab, to be fair and save time from everybody.\n",
    "\n",
    "2) **Report:** Regarding your reports, one word: **LaTeX**. I personally use TeXstudio (https://www.texstudio.org) for editing (and some compiler like https://miktex.org) when I'm solo, because it is native, fast, easy, works on all OSs, and Overleaf (https://www.overleaf.com) otherwise. Of course, you are welcome to use anything you want, as long as your report is a .pdf produced by LaTeX, or, at least, is a very presentable one. <u>Do not</u> submit your report in, e.g., some Microsoft Word format, unless you are either feeling lucky, or are some wizard that makes it look as presentable as LaTeX.\n",
    "\n",
    "3) **Deliverables:** Provide a <u>single</u> compressed file (.zip, .rar, etc.) that includes your report, and each programming exercise in a <u>separate</u> Python file (.ipynb or .py). Once ready, attach the compressed file to an e-mail and send it to the TA. You can use https://wetransfer.com in case you encounter any issues, e.g., large size. Do not forget to include your full name and registry number at both your report and the name of the submitted file. Submission instructions will likely be given at each assignment, but, even in case they are not, you can follow the above.\n",
    "\n",
    "These are the three main things we require from you. If there is any problem regarding the above, contact the TA during our Friday tutorials 10:00-12:00 room H.206, or via e-mail at: mrap@csd.uoc.gr"
   ]
  },
  {
   "cell_type": "markdown",
   "metadata": {
    "id": "O49c361KNVMJ"
   },
   "source": [
    "## <u>Setting a Python environment with Anaconda</u>\n",
    "\n",
    "In order to run Python scripts, we need to set up a Python environment. There are many ways to do it, and you are welcome to chose whatever suits you the best. I have always used Anaconda and/or pip for this task, so I'll explain briefly how it works below.\n",
    "\n",
    "<b>Anaconda</b> (or just Conda) is an option for creating and managing virtual environments, with either its GUI, terminal, or both. Conda allows to you manage multiple Python installations at the same time, and in each of them you can have different libraries/packages. For instance, you may want to have a separate Conda environment for each assignment depending on its specific needs, although it probably won't be necessary for this course, except, perhaps, your project.\n",
    "\n",
    "Guides for installing Anaconda:\n",
    "\n",
    "- Windows: https://docs.anaconda.com/anaconda/install/windows/\n",
    "- Linux: &nbsp; &nbsp; &nbsp; &nbsp;https://docs.anaconda.com/anaconda/install/linux/\n",
    "- macOS: &nbsp; &thinsp;&thinsp;https://docs.anaconda.com/anaconda/install/mac-os/\n",
    "\n",
    "Don't worry if the guide mentions, like, \"Python 3.7\". If you follow the instructions you should be able to get the latest Python installation anyway."
   ]
  },
  {
   "cell_type": "markdown",
   "metadata": {
    "id": "1hqJ0bdBNVMJ"
   },
   "source": [
    "### <u>Set up a Conda environment from zero</u>\n",
    "\n",
    "In order to create an environment with all the necessary packages, you can run the following commands in order (at the *anaconda powershell prompt* in case of a Windows OS):\n",
    "\n",
    "1) Create a new environment named \"hy673\" with Python 3.11 (there are some issues with Python 3.12 and Jupyter):\n",
    "\n",
    "`conda create --name hy673 python=3.11`\n",
    "\n",
    "2) Switch to your environment with:\n",
    "\n",
    "`conda activate hy673`\n",
    "\n",
    "You have to use this command every time after you start Anaconda. Otherwise, the default environment will be \"base\". You can work on \"base\", if you want, but, I would advise against it. Just create a new one for this course.\n",
    "\n",
    "3) Install some useful packages we'll need:\n",
    "\n",
    "`conda install numpy pandas matplotlib scikit-learn tqdm`\n",
    "\n",
    "You can also specify the version for each package, or install packages with pip instead of conda, although, I doubt you will need it for the assignments.\n",
    "\n",
    "4) Install the most important package for our machine learning needs: PyTorch. If you just want regular installation which runs <u> only on CPU </u>, you can run:\n",
    "\n",
    "`conda install pytorch torchvision torchaudio cpuonly -c pytorch`\n",
    "\n",
    "Otherwise, you can generate the command for a custom installation, at, say, the following link:\n",
    "<br> https://pytorch.org/get-started/locally/ <br>\n",
    "If you can use a GPU, I would definitely recommend to go for it instead of plain CPU installation. For example (using the link above): <br>\n",
    "`conda install pytorch torchvision torchaudio pytorch-cuda=12.1 -c pytorch -c nvidia`"
   ]
  },
  {
   "cell_type": "markdown",
   "metadata": {
    "id": "6gL-DiMiNVMJ"
   },
   "source": [
    "## <u>Set up Conda environment with one command</u>\n",
    "\n",
    "You can create an environment from a .txt or .yml file that lists all the packages/libraries you need, using the following command:\n",
    "\n",
    "<code>conda env create --name hy673 --file environment.txt</code>  \n",
    "\n",
    "Where the name of the environment will be `hy673` and the requirements are specified in `environment.txt`. There are many ways to get this environment file, such as:\n",
    "\n",
    "`conda list -e > environment.txt`\n",
    "\n",
    "Alternatively, when exporting your environment, you can use the option `--from-history`. It will export just the libs you explicitly installed, and not the dependencies:\n",
    "\n",
    "`conda env export --from-history > environment.yml`\n",
    "\n",
    "No platform specific info will be exported this way, thus, it may prevent some headaches."
   ]
  },
  {
   "cell_type": "markdown",
   "metadata": {
    "id": "IHZQZBspNVMK"
   },
   "source": [
    "## <u>Jupyter and Python IDEs</u>\n",
    "\n",
    "In this tutorial, and likely also some following ones, we will be using Jupyter notebooks to run Python code.\n",
    "Jupyter notebooks have multiple advantages, like:\n",
    "- They allow you to divide and run code in separate cells.\n",
    "- Cells can either contain Python code or Markdown, allowing us to combine code, text, and the ability to write math like:\n",
    "\\begin{equation*}\n",
    "e^{j\\pi} + 1 = 0.\n",
    "\\end{equation*}\n",
    "(Yes, I use $j$ for the imaginary unit.)\n",
    "\n",
    "<b>Installation:</b> One way to install Jupyter is by running on your `hy673` conda environment:\n",
    "\n",
    "`conda install jupyter`\n",
    "\n",
    "Another option is to manually click it on Conda's GUI, or use pip, etc. Anyhow, once you install that, to start a session in Jupyter, you can either do it from the Conda GUI, or run the command:\n",
    "\n",
    "`jupyter-notebook`\n",
    "\n",
    "This should open automatically in your browser. If that does not happen, you can check the output on the terminal, where you should see a line like:\n",
    "\n",
    "`Jupyter Notebook 6.4.12 is running at: http://localhost:8889/?token=****************************`\n",
    "\n",
    "So, just copy the link on your browser.\n",
    "\n",
    "If you are already using an IDE like PyCharm or VSCode for your Python code, you can use the Jupyter extension to open the notebooks instead of a browser:\n",
    "- PyCharm (only Professional edition): <br>\n",
    "https://www.jetbrains.com/help/pycharm/jupyter-notebook-support.html\n",
    "- VSCode: <br>\n",
    "https://marketplace.visualstudio.com/items?itemName=ms-toolsai.jupyter"
   ]
  },
  {
   "cell_type": "markdown",
   "metadata": {
    "id": "1X8FJP5ENVMK"
   },
   "source": [
    "## <u>Verifying your installation</u>\n",
    "\n",
    "Now that you have set up Anaconda, the `hy673` environment, and Jupyter, you can check that everything is working fine.\n",
    "You may start by opening this Jupyter notebook and running the cell below.\n",
    "If it doesn't raise any error, then you are on a good track: it means that you have installed the most important packages for this course."
   ]
  },
  {
   "cell_type": "code",
   "execution_count": 7,
   "metadata": {
    "id": "zowyCfm9NVMK"
   },
   "outputs": [],
   "source": [
    "import os\n",
    "import sys\n",
    "import tqdm # This is not important; we use it to display loop progress.\n",
    "import numpy as np\n",
    "import pandas as pd\n",
    "import sklearn\n",
    "import matplotlib\n",
    "import torch as tc"
   ]
  },
  {
   "cell_type": "markdown",
   "metadata": {
    "id": "L8l2i6K0NVML"
   },
   "source": [
    "Now, you can try to run the cell below, which verifies that all the package versions you have meet a minimum requirement for the course. Even if they do not, it shouldn't be an issue as long as they are not very old."
   ]
  },
  {
   "cell_type": "code",
   "execution_count": 8,
   "metadata": {
    "colab": {
     "base_uri": "https://localhost:8080/"
    },
    "id": "rzmMJnQjNVML",
    "executionInfo": {
     "status": "ok",
     "timestamp": 1707467400932,
     "user_tz": -120,
     "elapsed": 388,
     "user": {
      "displayName": "Michail Raptakis",
      "userId": "13076296806103248309"
     }
    },
    "outputId": "5d5ab718-3706-4261-992d-4ef2eb5827cc"
   },
   "outputs": [
    {
     "name": "stdout",
     "output_type": "stream",
     "text": [
      "Python version: 3.11.7 | packaged by Anaconda, Inc. | \tOK\n",
      "----------------------------------------------------------------\n",
      "Numpy version: 1.26.3 \tOK\n",
      "----------------------------------------------------------------\n",
      "Pandas version: 2.1.4 \tOK\n",
      "----------------------------------------------------------------\n",
      "Matplotlib version: 3.8.0 \tOK\n",
      "----------------------------------------------------------------\n",
      "Scikit-learn version: 1.2.2 \tOK\n",
      "----------------------------------------------------------------\n",
      "Pytorch version: 2.2.0 \tOK\n",
      "----------------------------------------------------------------\n",
      "All packages meet the minimum requirements.\n"
     ]
    }
   ],
   "source": [
    "require_dict = {\n",
    "    'python': '3.10.9',\n",
    "    'numpy': '1.23.5',\n",
    "    'pandas': '1.5.2',\n",
    "    'matplotlib': '3.6.2',\n",
    "    'scikit-learn': '1.2.0',\n",
    "    'pytorch': '1.13.1',\n",
    "}\n",
    "\n",
    "version_dict = {\n",
    "    'python': sys.version.split(\" (\")[0],\n",
    "    'numpy': np.__version__,\n",
    "    'pandas': pd.__version__,\n",
    "    'matplotlib': matplotlib.__version__,\n",
    "    'scikit-learn': sklearn.__version__,\n",
    "    'pytorch': tc.__version__,\n",
    "}\n",
    "\n",
    "bar = 64*'-'\n",
    "all_passed = True\n",
    "\n",
    "for key in require_dict:\n",
    "\n",
    "    cap_key = key.capitalize()\n",
    "\n",
    "    ver_dict = version_dict[key].split('.')[0:2]\n",
    "    req_dict = require_dict[key].split('.')[0:2]\n",
    "    ver_dict[0], ver_dict[1] = int(ver_dict[0]), int(ver_dict[1])\n",
    "    req_dict[0], req_dict[1] = int(req_dict[0]), int(req_dict[1])\n",
    "\n",
    "    ok1 = ver_dict[0] > req_dict[0]\n",
    "    ok2 = ver_dict[0] == req_dict[0] and ver_dict[1] >= req_dict[1]\n",
    "\n",
    "    if ok1 or ok2:\n",
    "        print(f\"{cap_key} version: {version_dict[key]} \\tOK\")\n",
    "    else:\n",
    "        all_passed = False\n",
    "        print(f\"Warning:   Old {cap_key} version.\\nSuggested: {cap_key} >= {require_dict[key]}\\nCurrent:   {cap_key} == {version_dict[key]}\")\n",
    "\n",
    "    print(bar)\n",
    "\n",
    "if all_passed:\n",
    "    print(\"All packages meet the minimum requirements.\")"
   ]
  },
  {
   "cell_type": "markdown",
   "source": [
    "To verify/check if your installation supports GPU:"
   ],
   "metadata": {
    "id": "mhTJhIdEPB6e"
   }
  },
  {
   "cell_type": "code",
   "source": [
    "print(tc.cuda.is_available())"
   ],
   "metadata": {
    "colab": {
     "base_uri": "https://localhost:8080/"
    },
    "id": "adsydbs5PIFu",
    "executionInfo": {
     "status": "ok",
     "timestamp": 1707467400933,
     "user_tz": -120,
     "elapsed": 4,
     "user": {
      "displayName": "Michail Raptakis",
      "userId": "13076296806103248309"
     }
    },
    "outputId": "b1c65f62-09b6-4d0b-8a56-4f78b84fcd9b"
   },
   "execution_count": 9,
   "outputs": [
    {
     "name": "stdout",
     "output_type": "stream",
     "text": [
      "True\n"
     ]
    }
   ]
  },
  {
   "cell_type": "markdown",
   "metadata": {
    "id": "58Wl2lovNVML"
   },
   "source": [
    "## <u>Conda cheatsheet</u>\n",
    "\n",
    "Anaconda allows you to do a lot of things with your environments, such as, cloning them, deleting them, restoring them to a previous state, etc. In the following URL, you will find a longer list of possible Conda commands: https://docs.conda.io/projects/conda/en/4.6.0/_downloads/52a95608c49671267e40c689e0bc00ca/conda-cheatsheet.pdf\n",
    "\n",
    "Here are some notable ones:\n",
    "- Create an environment:\n",
    "\n",
    "`conda create --name [env-name]`\n",
    "\n",
    "- List all the environments:\n",
    "\n",
    "`conda env list`\n",
    "\n",
    "- Activate an environment:\n",
    "\n",
    "`conda activate [env-name]`\n",
    "\n",
    "- Remove an environment:\n",
    "\n",
    "`conda env remove --name [env-name]`\n",
    "\n",
    "- Restore the environment to a previous state (revision):\n",
    "\n",
    "`conda install --revision [revision-id]`\n",
    "\n",
    "About this `revision-id`: Every time you make some changes to your environment, these changes will be logged as a \"revision\", which will be identified by some number that Conda stores. To see the list of all revisions, you can use:\n",
    "\n",
    "`conda list --revisions`\n",
    "\n",
    "For example, suppose you accidentally installed the Plotly package instead of Matplotlib. You can run `conda list --revisions` to display all the revisions and find the one in which Plotly was installed. Once you realize Plotly was installed at, say, revision 5, you can just run `conda install --revision 4` to restore the environment to this previous state, before the goof was made.\n"
   ]
  },
  {
   "cell_type": "markdown",
   "source": [
    "# <u>Google Colab</u>\n",
    "\n",
    "You can also ignore almost everything we've said thus far, and just use Google colab for everything, without the need to have local Python environments, IDEs, etc. It runs on Google servers and automatically gives you the requirements you want once you import the packages you need. If you want to use GPU, check the tab **Runtime** at the top. As the assignments get longer in lines of code, however, you may find it impractical to code there, versus some IDE. Nonetheless, you can also just use it to train your models once you've coded them, instead of, say, melting your own PC.\n",
    "\n",
    "Needless to say, if you're one of those people who want to use a text editor like Vim or Emacs for absolutely everything as if you're writing C or something, go ahead—I won't stop you. The three main requirements lie at the top of this page."
   ],
   "metadata": {
    "id": "yZBExhw5d9O1"
   }
  },
  {
   "cell_type": "code",
   "source": [],
   "metadata": {
    "id": "Sf6relQwwLT6"
   },
   "execution_count": 9,
   "outputs": []
  }
 ],
 "metadata": {
  "kernelspec": {
   "display_name": "Python 3",
   "name": "python3"
  },
  "language_info": {
   "codemirror_mode": {
    "name": "ipython",
    "version": 3
   },
   "file_extension": ".py",
   "mimetype": "text/x-python",
   "name": "python",
   "nbconvert_exporter": "python",
   "pygments_lexer": "ipython3",
   "version": "3.10.9"
  },
  "vscode": {
   "interpreter": {
    "hash": "898d28840f55b3c5c9a615fda231169adc20c90e3e87a937f55caa36837c15d9"
   }
  },
  "colab": {
   "provenance": []
  }
 },
 "nbformat": 4,
 "nbformat_minor": 0
}
