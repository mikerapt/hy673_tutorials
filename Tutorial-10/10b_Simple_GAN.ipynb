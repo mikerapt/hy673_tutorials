{
 "cells": [
  {
   "attachments": {},
   "cell_type": "markdown",
   "metadata": {},
   "source": [
    "# Generative Adversarial Networks (GANs)\n",
    "by Ian Goodfellow et al."
   ]
  },
  {
   "cell_type": "markdown",
   "source": [
    "### Imports"
   ],
   "metadata": {
    "collapsed": false
   }
  },
  {
   "cell_type": "code",
   "execution_count": 12,
   "metadata": {
    "ExecuteTime": {
     "end_time": "2024-04-12T10:13:44.334325100Z",
     "start_time": "2024-04-12T10:13:43.091475200Z"
    }
   },
   "outputs": [],
   "source": [
    "import torch as tc\n",
    "import torch.nn as nn\n",
    "import torchvision.transforms as transforms\n",
    "from torch.optim import Adam\n",
    "from torchvision.datasets import MNIST\n",
    "from torch.utils.data import DataLoader\n",
    "from torchsummary import summary\n",
    "\n",
    "import numpy as np\n",
    "import matplotlib.pyplot as plt\n",
    "from tqdm import tqdm"
   ]
  },
  {
   "cell_type": "markdown",
   "source": [
    "### Hyperparameters"
   ],
   "metadata": {
    "collapsed": false
   }
  },
  {
   "cell_type": "code",
   "execution_count": 13,
   "metadata": {
    "ExecuteTime": {
     "end_time": "2024-04-12T10:13:44.380826200Z",
     "start_time": "2024-04-12T10:13:44.373558300Z"
    }
   },
   "outputs": [
    {
     "name": "stdout",
     "output_type": "stream",
     "text": [
      "Using cuda\n"
     ]
    }
   ],
   "source": [
    "seed = 42\n",
    "tc.manual_seed(seed)\n",
    "np.random.seed(seed)\n",
    "device = 'cuda' if tc.cuda.is_available() else 'cpu'\n",
    "print(f\"Using {device}\")\n",
    "\n",
    "epochs = 100\n",
    "batch_size = 128\n",
    "lr = 2e-4\n",
    "betas = (0.5, 0.999)"
   ]
  },
  {
   "cell_type": "markdown",
   "source": [
    "## Generator Network (G)\n",
    "\n",
    "Input is noise, output is an MNIST digit."
   ],
   "metadata": {
    "collapsed": false
   }
  },
  {
   "cell_type": "code",
   "execution_count": 14,
   "outputs": [],
   "source": [
    "class Generator(nn.Module):\n",
    "\n",
    "    def __init__(self, input_shape=(1, 28, 28), noise_shape=(100,)):\n",
    "        super().__init__()\n",
    "        self.noise_shape = noise_shape\n",
    "        self.noise_dim = np.prod(noise_shape)\n",
    "        self.data_shape = input_shape\n",
    "        self.data_dim = np.prod(input_shape)\n",
    "        # Define the sizes of the linear layers in the Generator:\n",
    "        layer_sizes = [self.noise_dim, 256, 512, 1024]\n",
    "        layers = []\n",
    "        # Architecture:\n",
    "        for i in range(len(layer_sizes) - 1):\n",
    "            layers.append(nn.Linear(in_features=layer_sizes[i], out_features=layer_sizes[i + 1]))\n",
    "            layers.append(nn.PReLU())\n",
    "        # Final layer:\n",
    "        layers.append(nn.Linear(in_features=layer_sizes[-1], out_features=self.data_dim))\n",
    "        layers.append(nn.Tanh())\n",
    "        self.generator = nn.Sequential(*layers)\n",
    "\n",
    "    def forward(self, noise):\n",
    "        noise = noise.view(-1, self.noise_dim)\n",
    "        output = self.generator(noise)\n",
    "        return output.view(-1, *self.data_shape)"
   ],
   "metadata": {
    "collapsed": false,
    "ExecuteTime": {
     "end_time": "2024-04-12T10:13:44.413198500Z",
     "start_time": "2024-04-12T10:13:44.399316500Z"
    }
   }
  },
  {
   "cell_type": "markdown",
   "source": [
    "## Discriminator Network (D)\n",
    "\n",
    "Input is an MNIST digit (either real or fake/generated), output is a probability/score in (0,1) on whether it is fake/real."
   ],
   "metadata": {
    "collapsed": false
   }
  },
  {
   "cell_type": "code",
   "execution_count": 15,
   "metadata": {
    "ExecuteTime": {
     "end_time": "2024-04-12T10:13:44.427653800Z",
     "start_time": "2024-04-12T10:13:44.415191500Z"
    }
   },
   "outputs": [],
   "source": [
    "class Discriminator(nn.Module):\n",
    "    def __init__(self, input_shape=(1, 28, 28)):\n",
    "        super().__init__()\n",
    "        self.data_shape = input_shape\n",
    "        self.data_dim = np.prod(input_shape)\n",
    "        # Define the sizes of the linear layers in the Discriminator:\n",
    "        layer_sizes = [self.data_dim, 1024, 512, 256]\n",
    "        layers = []\n",
    "        # Discriminator architecture:\n",
    "        for i in range(len(layer_sizes) - 1):\n",
    "            layers.append(nn.Linear(in_features=layer_sizes[i], out_features=layer_sizes[i + 1]))\n",
    "            layers.append(nn.PReLU())\n",
    "            layers.append(nn.Dropout(p=0.3))\n",
    "        # Final layer:\n",
    "        layers.append(nn.Linear(in_features=layer_sizes[-1], out_features=1))\n",
    "        layers.append(nn.Sigmoid())\n",
    "        self.discriminator = nn.Sequential(*layers)\n",
    "\n",
    "    def forward(self, x):\n",
    "        x = x.view(-1, self.data_dim)\n",
    "        return self.discriminator(x)"
   ]
  },
  {
   "cell_type": "markdown",
   "source": [
    "## Dataset"
   ],
   "metadata": {
    "collapsed": false
   }
  },
  {
   "cell_type": "code",
   "execution_count": 16,
   "metadata": {
    "ExecuteTime": {
     "end_time": "2024-04-12T10:13:44.459079600Z",
     "start_time": "2024-04-12T10:13:44.430645900Z"
    }
   },
   "outputs": [],
   "source": [
    "# Load MNIST dataset\n",
    "transform = transforms.Compose([\n",
    "    transforms.ToTensor(),\n",
    "    transforms.Normalize(mean=[0.5], std=[0.5])\n",
    "])\n",
    "train_set = MNIST(root=\"./data\", train=True, download=True, transform=transform)\n",
    "train_loader = DataLoader(train_set, batch_size=batch_size, shuffle=True)"
   ]
  },
  {
   "cell_type": "markdown",
   "source": [
    "## Models"
   ],
   "metadata": {
    "collapsed": false
   }
  },
  {
   "cell_type": "code",
   "execution_count": 17,
   "outputs": [],
   "source": [
    "data_shape = (1, 28, 28)\n",
    "noise_dim = 128"
   ],
   "metadata": {
    "collapsed": false,
    "ExecuteTime": {
     "end_time": "2024-04-12T10:21:06.389257400Z",
     "start_time": "2024-04-12T10:21:06.371754400Z"
    }
   }
  },
  {
   "cell_type": "markdown",
   "source": [
    "Simple manual way to print output shapes of a model's architecture:"
   ],
   "metadata": {
    "collapsed": false
   }
  },
  {
   "cell_type": "code",
   "execution_count": 18,
   "outputs": [],
   "source": [
    "def print_dims(architecture, in_shape):\n",
    "    print(f\"In shape = {in_shape}\")\n",
    "    dummy_input = tc.randn(in_shape).to(device)\n",
    "    current_output = dummy_input\n",
    "    for layer in architecture:\n",
    "        current_output = layer(current_output)\n",
    "        print(f\"Out shape after {type(layer).__name__} = {current_output.shape}\")"
   ],
   "metadata": {
    "collapsed": false,
    "ExecuteTime": {
     "end_time": "2024-04-12T10:21:06.543442500Z",
     "start_time": "2024-04-12T10:21:06.531834100Z"
    }
   }
  },
  {
   "cell_type": "code",
   "execution_count": 19,
   "metadata": {
    "ExecuteTime": {
     "end_time": "2024-04-12T10:21:06.729416600Z",
     "start_time": "2024-04-12T10:21:06.700179300Z"
    }
   },
   "outputs": [
    {
     "name": "stdout",
     "output_type": "stream",
     "text": [
      "==========================================================================================\n",
      "Layer (type:depth-idx)                   Output Shape              Param #\n",
      "==========================================================================================\n",
      "├─Sequential: 1-1                        [-1, 784]                 --\n",
      "|    └─Linear: 2-1                       [-1, 256]                 33,024\n",
      "|    └─PReLU: 2-2                        [-1, 256]                 1\n",
      "|    └─Linear: 2-3                       [-1, 512]                 131,584\n",
      "|    └─PReLU: 2-4                        [-1, 512]                 1\n",
      "|    └─Linear: 2-5                       [-1, 1024]                525,312\n",
      "|    └─PReLU: 2-6                        [-1, 1024]                1\n",
      "|    └─Linear: 2-7                       [-1, 784]                 803,600\n",
      "|    └─Tanh: 2-8                         [-1, 784]                 --\n",
      "==========================================================================================\n",
      "Total params: 1,493,523\n",
      "Trainable params: 1,493,523\n",
      "Non-trainable params: 0\n",
      "Total mult-adds (M): 2.98\n",
      "==========================================================================================\n",
      "Input size (MB): 0.06\n",
      "Forward/backward pass size (MB): 0.03\n",
      "Params size (MB): 5.70\n",
      "Estimated Total Size (MB): 5.79\n",
      "==========================================================================================\n",
      "In shape = (128, 128)\n",
      "Out shape after Linear = torch.Size([128, 256])\n",
      "Out shape after PReLU = torch.Size([128, 256])\n",
      "Out shape after Linear = torch.Size([128, 512])\n",
      "Out shape after PReLU = torch.Size([128, 512])\n",
      "Out shape after Linear = torch.Size([128, 1024])\n",
      "Out shape after PReLU = torch.Size([128, 1024])\n",
      "Out shape after Linear = torch.Size([128, 784])\n",
      "Out shape after Tanh = torch.Size([128, 784])\n"
     ]
    }
   ],
   "source": [
    "gen = Generator(input_shape=data_shape, noise_shape=(noise_dim,)).to(device)\n",
    "opt_gen = Adam(params=gen.parameters(), lr=lr, betas=betas)\n",
    "\n",
    "_ = summary(model=gen, input_data=tc.zeros(size=(batch_size, noise_dim)))\n",
    "\n",
    "print_dims(architecture=gen.generator, in_shape=(batch_size, noise_dim))"
   ]
  },
  {
   "cell_type": "code",
   "execution_count": 20,
   "outputs": [
    {
     "name": "stdout",
     "output_type": "stream",
     "text": [
      "==========================================================================================\n",
      "Layer (type:depth-idx)                   Output Shape              Param #\n",
      "==========================================================================================\n",
      "├─Sequential: 1-1                        [-1, 1]                   --\n",
      "|    └─Linear: 2-1                       [-1, 1024]                803,840\n",
      "|    └─PReLU: 2-2                        [-1, 1024]                1\n",
      "|    └─Dropout: 2-3                      [-1, 1024]                --\n",
      "|    └─Linear: 2-4                       [-1, 512]                 524,800\n",
      "|    └─PReLU: 2-5                        [-1, 512]                 1\n",
      "|    └─Dropout: 2-6                      [-1, 512]                 --\n",
      "|    └─Linear: 2-7                       [-1, 256]                 131,328\n",
      "|    └─PReLU: 2-8                        [-1, 256]                 1\n",
      "|    └─Dropout: 2-9                      [-1, 256]                 --\n",
      "|    └─Linear: 2-10                      [-1, 1]                   257\n",
      "|    └─Sigmoid: 2-11                     [-1, 1]                   --\n",
      "==========================================================================================\n",
      "Total params: 1,460,228\n",
      "Trainable params: 1,460,228\n",
      "Non-trainable params: 0\n",
      "Total mult-adds (M): 2.92\n",
      "==========================================================================================\n",
      "Input size (MB): 0.38\n",
      "Forward/backward pass size (MB): 0.03\n",
      "Params size (MB): 5.57\n",
      "Estimated Total Size (MB): 5.98\n",
      "==========================================================================================\n",
      "In shape = (128, 784)\n",
      "Out shape after Linear = torch.Size([128, 1024])\n",
      "Out shape after PReLU = torch.Size([128, 1024])\n",
      "Out shape after Dropout = torch.Size([128, 1024])\n",
      "Out shape after Linear = torch.Size([128, 512])\n",
      "Out shape after PReLU = torch.Size([128, 512])\n",
      "Out shape after Dropout = torch.Size([128, 512])\n",
      "Out shape after Linear = torch.Size([128, 256])\n",
      "Out shape after PReLU = torch.Size([128, 256])\n",
      "Out shape after Dropout = torch.Size([128, 256])\n",
      "Out shape after Linear = torch.Size([128, 1])\n",
      "Out shape after Sigmoid = torch.Size([128, 1])\n"
     ]
    }
   ],
   "source": [
    "disc = Discriminator(input_shape=data_shape).to(device)\n",
    "opt_disc = Adam(params=disc.parameters(), lr=lr, betas=betas)\n",
    "\n",
    "_ = summary(model=disc, input_data=tc.zeros(size=(batch_size, np.prod(data_shape))))\n",
    "\n",
    "print_dims(architecture=disc.discriminator, in_shape=(batch_size, np.prod(data_shape)))"
   ],
   "metadata": {
    "collapsed": false,
    "ExecuteTime": {
     "end_time": "2024-04-12T10:21:49.392992Z",
     "start_time": "2024-04-12T10:21:49.345398400Z"
    }
   }
  },
  {
   "attachments": {},
   "cell_type": "markdown",
   "metadata": {},
   "source": [
    "## Minmax optimization\n",
    "\n",
    "- real data $x$\n",
    "- generated data $\\hat{x}=G(z)$\n",
    "- $D$ operates withing the range (0,1), where values closer to $1$ suggest \"real\" and values closer to $0$ suggest \"fake\".\n",
    "\n",
    "$$\n",
    "\\min_{G} \\max_{D} \\mathbb{E}_{x\\sim p_{\\text{data}}}[\\log(D(x))] + \\mathbb{E}_{z\\sim p_{\\text{noise}}}[\\log(1-D(G(z)))].\n",
    "$$\n",
    "\n",
    "- First term $\\mathbb{E}_{x\\sim p_{\\text{data}}}[\\log(D(x))]$ is about real samples, so maximizing this term pushes $D(x)$ towards $1$, because the logarithm function increases as its argument approaches 1.\n",
    "- Second term $\\mathbb{E}_{z\\sim p_{\\text{noise}}}[\\log(1-D(G(z)))]$ is about generated samples, so maximizing this term pushes $D(G(z))$ towards $0$ because $log(1-x)$ increases as $x$ approaches $0$. On the other hand, G tries to minimize this term which would mean fooling $D$ into believing that the fakes are real, thus pushing $D(G(z))$ towards $1$.\n"
   ]
  },
  {
   "attachments": {},
   "cell_type": "markdown",
   "metadata": {},
   "source": [
    "## Loss \n",
    "\n",
    "Keeping in mind the above, the Discriminator loss can be:\n",
    "$$\n",
    "\\mathcal{L}_{D} = -\\sum_{i\\in \\text{batch}}\\log(D(x_i)) - \\sum_{i\\in \\text{batch}}\\log(1-D(\\hat{x}_i)) = \\sum_{i\\in \\text{batch}}\\text{BCE}(D(x_i), 1) + \\sum_{i\\in \\text{batch}}\\text{BCE}(D(\\hat{x}_i), 0)\n",
    "$$\n",
    "\n",
    "So for the Generator:\n",
    "$$\n",
    "\\mathcal{L}_{G} = \\sum_{i\\in \\text{batch}}\\text{BCE}(D(\\hat{x}_i), 1)\n",
    "$$"
   ]
  },
  {
   "cell_type": "markdown",
   "source": [
    "## Generation/Sampling\n",
    "\n",
    "Feeding gaussian noise into the Generator, and the rest is plotting:"
   ],
   "metadata": {
    "collapsed": false
   }
  },
  {
   "cell_type": "code",
   "execution_count": 21,
   "metadata": {
    "ExecuteTime": {
     "end_time": "2024-04-12T10:13:45.406470100Z",
     "start_time": "2024-04-12T10:13:44.567548200Z"
    }
   },
   "outputs": [
    {
     "data": {
      "text/plain": "<Figure size 800x600 with 12 Axes>",
      "image/png": "[encoded data removed]"
     },
     "metadata": {},
     "output_type": "display_data"
    }
   ],
   "source": [
    "def generate(n_samples, title):\n",
    "    z = tc.randn(n_samples, noise_dim)\n",
    "    z = z.to(device)\n",
    "    x_hat = gen(z)\n",
    "    x_hat = x_hat.detach().cpu().numpy().reshape(-1, 28, 28)\n",
    "\n",
    "    # The rest is just plotting:\n",
    "    n_rows = (n_samples + 3) // 4\n",
    "    fig, axs = plt.subplots(\n",
    "        nrows=n_rows,\n",
    "        ncols=4,\n",
    "        figsize=(8, 2*n_rows),\n",
    "        subplot_kw={'xticks': [], 'yticks': [], 'frame_on': False}\n",
    "    )\n",
    "    for i, axis in enumerate(axs.flat[:n_samples]):\n",
    "        axis.imshow(x_hat[i], cmap='binary')\n",
    "    plt.subplots_adjust(wspace=0.1, hspace=0.1)\n",
    "    fig.suptitle(title, fontsize=16)\n",
    "    plt.show()\n",
    "    plt.close()\n",
    "\n",
    "no_samples = 12\n",
    "generate(no_samples, title=\"Sampling Untrained Generator\")"
   ]
  },
  {
   "cell_type": "markdown",
   "source": [
    "## Training"
   ],
   "metadata": {
    "collapsed": false
   }
  },
  {
   "cell_type": "code",
   "execution_count": 22,
   "outputs": [
    {
     "name": "stderr",
     "output_type": "stream",
     "text": [
      "100%|██████████| 469/469 [00:16<00:00, 28.85it/s]\n"
     ]
    },
    {
     "name": "stdout",
     "output_type": "stream",
     "text": [
      "Epoch [1/100] | Loss D: 0.4181 | Loss G: 1.8782\n"
     ]
    },
    {
     "name": "stderr",
     "output_type": "stream",
     "text": [
      "100%|██████████| 469/469 [00:16<00:00, 28.49it/s]\n"
     ]
    },
    {
     "name": "stdout",
     "output_type": "stream",
     "text": [
      "Epoch [2/100] | Loss D: 0.3142 | Loss G: 2.7930\n"
     ]
    },
    {
     "name": "stderr",
     "output_type": "stream",
     "text": [
      "100%|██████████| 469/469 [00:16<00:00, 28.57it/s]\n"
     ]
    },
    {
     "name": "stdout",
     "output_type": "stream",
     "text": [
      "Epoch [3/100] | Loss D: 0.2005 | Loss G: 3.0759\n"
     ]
    },
    {
     "name": "stderr",
     "output_type": "stream",
     "text": [
      "100%|██████████| 469/469 [00:17<00:00, 27.35it/s]\n"
     ]
    },
    {
     "name": "stdout",
     "output_type": "stream",
     "text": [
      "Epoch [4/100] | Loss D: 0.1580 | Loss G: 3.0715\n"
     ]
    },
    {
     "name": "stderr",
     "output_type": "stream",
     "text": [
      "100%|██████████| 469/469 [00:16<00:00, 28.03it/s]\n"
     ]
    },
    {
     "name": "stdout",
     "output_type": "stream",
     "text": [
      "Epoch [5/100] | Loss D: 0.1829 | Loss G: 2.7200\n"
     ]
    },
    {
     "name": "stderr",
     "output_type": "stream",
     "text": [
      "100%|██████████| 469/469 [00:16<00:00, 27.62it/s]\n"
     ]
    },
    {
     "name": "stdout",
     "output_type": "stream",
     "text": [
      "Epoch [6/100] | Loss D: 0.1976 | Loss G: 2.5478\n"
     ]
    },
    {
     "name": "stderr",
     "output_type": "stream",
     "text": [
      "100%|██████████| 469/469 [00:16<00:00, 27.88it/s]\n"
     ]
    },
    {
     "name": "stdout",
     "output_type": "stream",
     "text": [
      "Epoch [7/100] | Loss D: 0.2243 | Loss G: 2.4350\n"
     ]
    },
    {
     "name": "stderr",
     "output_type": "stream",
     "text": [
      "100%|██████████| 469/469 [00:17<00:00, 27.02it/s]\n"
     ]
    },
    {
     "name": "stdout",
     "output_type": "stream",
     "text": [
      "Epoch [8/100] | Loss D: 0.2770 | Loss G: 2.1786\n"
     ]
    },
    {
     "name": "stderr",
     "output_type": "stream",
     "text": [
      "100%|██████████| 469/469 [00:16<00:00, 29.05it/s]\n"
     ]
    },
    {
     "name": "stdout",
     "output_type": "stream",
     "text": [
      "Epoch [9/100] | Loss D: 0.3129 | Loss G: 1.9811\n"
     ]
    },
    {
     "name": "stderr",
     "output_type": "stream",
     "text": [
      "100%|██████████| 469/469 [00:16<00:00, 27.79it/s]\n"
     ]
    },
    {
     "name": "stdout",
     "output_type": "stream",
     "text": [
      "Epoch [10/100] | Loss D: 0.3590 | Loss G: 1.8433\n"
     ]
    },
    {
     "data": {
      "text/plain": "<Figure size 800x600 with 12 Axes>",
      "image/png": "[encoded data removed]"
     },
     "metadata": {},
     "output_type": "display_data"
    },
    {
     "name": "stderr",
     "output_type": "stream",
     "text": [
      "100%|██████████| 469/469 [00:16<00:00, 28.25it/s]\n"
     ]
    },
    {
     "name": "stdout",
     "output_type": "stream",
     "text": [
      "Epoch [11/100] | Loss D: 0.3767 | Loss G: 1.7795\n"
     ]
    },
    {
     "name": "stderr",
     "output_type": "stream",
     "text": [
      "100%|██████████| 469/469 [00:16<00:00, 28.20it/s]\n"
     ]
    },
    {
     "name": "stdout",
     "output_type": "stream",
     "text": [
      "Epoch [12/100] | Loss D: 0.4150 | Loss G: 1.6400\n"
     ]
    },
    {
     "name": "stderr",
     "output_type": "stream",
     "text": [
      "100%|██████████| 469/469 [00:16<00:00, 28.61it/s]\n"
     ]
    },
    {
     "name": "stdout",
     "output_type": "stream",
     "text": [
      "Epoch [13/100] | Loss D: 0.4600 | Loss G: 1.5363\n"
     ]
    },
    {
     "name": "stderr",
     "output_type": "stream",
     "text": [
      "100%|██████████| 469/469 [00:16<00:00, 28.54it/s]\n"
     ]
    },
    {
     "name": "stdout",
     "output_type": "stream",
     "text": [
      "Epoch [14/100] | Loss D: 0.4699 | Loss G: 1.4184\n"
     ]
    },
    {
     "name": "stderr",
     "output_type": "stream",
     "text": [
      "100%|██████████| 469/469 [00:16<00:00, 28.31it/s]\n"
     ]
    },
    {
     "name": "stdout",
     "output_type": "stream",
     "text": [
      "Epoch [15/100] | Loss D: 0.4857 | Loss G: 1.3400\n"
     ]
    },
    {
     "name": "stderr",
     "output_type": "stream",
     "text": [
      "100%|██████████| 469/469 [00:16<00:00, 28.61it/s]\n"
     ]
    },
    {
     "name": "stdout",
     "output_type": "stream",
     "text": [
      "Epoch [16/100] | Loss D: 0.4901 | Loss G: 1.3138\n"
     ]
    },
    {
     "name": "stderr",
     "output_type": "stream",
     "text": [
      "100%|██████████| 469/469 [00:16<00:00, 28.46it/s]\n"
     ]
    },
    {
     "name": "stdout",
     "output_type": "stream",
     "text": [
      "Epoch [17/100] | Loss D: 0.4858 | Loss G: 1.3396\n"
     ]
    },
    {
     "name": "stderr",
     "output_type": "stream",
     "text": [
      "100%|██████████| 469/469 [00:16<00:00, 28.15it/s]\n"
     ]
    },
    {
     "name": "stdout",
     "output_type": "stream",
     "text": [
      "Epoch [18/100] | Loss D: 0.4833 | Loss G: 1.3334\n"
     ]
    },
    {
     "name": "stderr",
     "output_type": "stream",
     "text": [
      "100%|██████████| 469/469 [00:16<00:00, 28.39it/s]\n"
     ]
    },
    {
     "name": "stdout",
     "output_type": "stream",
     "text": [
      "Epoch [19/100] | Loss D: 0.4944 | Loss G: 1.3110\n"
     ]
    },
    {
     "name": "stderr",
     "output_type": "stream",
     "text": [
      "100%|██████████| 469/469 [00:16<00:00, 28.38it/s]\n"
     ]
    },
    {
     "name": "stdout",
     "output_type": "stream",
     "text": [
      "Epoch [20/100] | Loss D: 0.4986 | Loss G: 1.2754\n"
     ]
    },
    {
     "data": {
      "text/plain": "<Figure size 800x600 with 12 Axes>",
      "image/png": "[encoded data removed]"
     },
     "metadata": {},
     "output_type": "display_data"
    },
    {
     "name": "stderr",
     "output_type": "stream",
     "text": [
      "100%|██████████| 469/469 [00:16<00:00, 28.78it/s]\n"
     ]
    },
    {
     "name": "stdout",
     "output_type": "stream",
     "text": [
      "Epoch [21/100] | Loss D: 0.5019 | Loss G: 1.2784\n"
     ]
    },
    {
     "name": "stderr",
     "output_type": "stream",
     "text": [
      "100%|██████████| 469/469 [00:16<00:00, 28.57it/s]\n"
     ]
    },
    {
     "name": "stdout",
     "output_type": "stream",
     "text": [
      "Epoch [22/100] | Loss D: 0.5112 | Loss G: 1.2494\n"
     ]
    },
    {
     "name": "stderr",
     "output_type": "stream",
     "text": [
      "100%|██████████| 469/469 [00:16<00:00, 28.65it/s]\n"
     ]
    },
    {
     "name": "stdout",
     "output_type": "stream",
     "text": [
      "Epoch [23/100] | Loss D: 0.5054 | Loss G: 1.2594\n"
     ]
    },
    {
     "name": "stderr",
     "output_type": "stream",
     "text": [
      "100%|██████████| 469/469 [00:16<00:00, 28.88it/s]\n"
     ]
    },
    {
     "name": "stdout",
     "output_type": "stream",
     "text": [
      "Epoch [24/100] | Loss D: 0.5088 | Loss G: 1.2662\n"
     ]
    },
    {
     "name": "stderr",
     "output_type": "stream",
     "text": [
      "100%|██████████| 469/469 [00:16<00:00, 29.22it/s]\n"
     ]
    },
    {
     "name": "stdout",
     "output_type": "stream",
     "text": [
      "Epoch [25/100] | Loss D: 0.5124 | Loss G: 1.2623\n"
     ]
    },
    {
     "name": "stderr",
     "output_type": "stream",
     "text": [
      "100%|██████████| 469/469 [00:16<00:00, 29.11it/s]\n"
     ]
    },
    {
     "name": "stdout",
     "output_type": "stream",
     "text": [
      "Epoch [26/100] | Loss D: 0.5138 | Loss G: 1.2423\n"
     ]
    },
    {
     "name": "stderr",
     "output_type": "stream",
     "text": [
      "100%|██████████| 469/469 [00:16<00:00, 28.75it/s]\n"
     ]
    },
    {
     "name": "stdout",
     "output_type": "stream",
     "text": [
      "Epoch [27/100] | Loss D: 0.5184 | Loss G: 1.2353\n"
     ]
    },
    {
     "name": "stderr",
     "output_type": "stream",
     "text": [
      "100%|██████████| 469/469 [00:16<00:00, 28.36it/s]\n"
     ]
    },
    {
     "name": "stdout",
     "output_type": "stream",
     "text": [
      "Epoch [28/100] | Loss D: 0.5131 | Loss G: 1.2468\n"
     ]
    },
    {
     "name": "stderr",
     "output_type": "stream",
     "text": [
      "100%|██████████| 469/469 [00:16<00:00, 28.42it/s]\n"
     ]
    },
    {
     "name": "stdout",
     "output_type": "stream",
     "text": [
      "Epoch [29/100] | Loss D: 0.5188 | Loss G: 1.2295\n"
     ]
    },
    {
     "name": "stderr",
     "output_type": "stream",
     "text": [
      "100%|██████████| 469/469 [00:16<00:00, 27.90it/s]\n"
     ]
    },
    {
     "name": "stdout",
     "output_type": "stream",
     "text": [
      "Epoch [30/100] | Loss D: 0.5220 | Loss G: 1.2186\n"
     ]
    },
    {
     "data": {
      "text/plain": "<Figure size 800x600 with 12 Axes>",
      "image/png": "[encoded data removed]"
     },
     "metadata": {},
     "output_type": "display_data"
    },
    {
     "name": "stderr",
     "output_type": "stream",
     "text": [
      "100%|██████████| 469/469 [00:16<00:00, 27.61it/s]\n"
     ]
    },
    {
     "name": "stdout",
     "output_type": "stream",
     "text": [
      "Epoch [31/100] | Loss D: 0.5188 | Loss G: 1.2306\n"
     ]
    },
    {
     "name": "stderr",
     "output_type": "stream",
     "text": [
      "100%|██████████| 469/469 [00:16<00:00, 28.08it/s]\n"
     ]
    },
    {
     "name": "stdout",
     "output_type": "stream",
     "text": [
      "Epoch [32/100] | Loss D: 0.5232 | Loss G: 1.2155\n"
     ]
    },
    {
     "name": "stderr",
     "output_type": "stream",
     "text": [
      "100%|██████████| 469/469 [00:17<00:00, 27.45it/s]\n"
     ]
    },
    {
     "name": "stdout",
     "output_type": "stream",
     "text": [
      "Epoch [33/100] | Loss D: 0.5239 | Loss G: 1.2196\n"
     ]
    },
    {
     "name": "stderr",
     "output_type": "stream",
     "text": [
      "100%|██████████| 469/469 [00:17<00:00, 26.56it/s]\n"
     ]
    },
    {
     "name": "stdout",
     "output_type": "stream",
     "text": [
      "Epoch [34/100] | Loss D: 0.5216 | Loss G: 1.2236\n"
     ]
    },
    {
     "name": "stderr",
     "output_type": "stream",
     "text": [
      "100%|██████████| 469/469 [00:16<00:00, 28.08it/s]\n"
     ]
    },
    {
     "name": "stdout",
     "output_type": "stream",
     "text": [
      "Epoch [35/100] | Loss D: 0.5249 | Loss G: 1.2144\n"
     ]
    },
    {
     "name": "stderr",
     "output_type": "stream",
     "text": [
      "100%|██████████| 469/469 [00:16<00:00, 27.75it/s]\n"
     ]
    },
    {
     "name": "stdout",
     "output_type": "stream",
     "text": [
      "Epoch [36/100] | Loss D: 0.5275 | Loss G: 1.1982\n"
     ]
    },
    {
     "name": "stderr",
     "output_type": "stream",
     "text": [
      "100%|██████████| 469/469 [00:17<00:00, 27.11it/s]\n"
     ]
    },
    {
     "name": "stdout",
     "output_type": "stream",
     "text": [
      "Epoch [37/100] | Loss D: 0.5245 | Loss G: 1.2087\n"
     ]
    },
    {
     "name": "stderr",
     "output_type": "stream",
     "text": [
      "100%|██████████| 469/469 [00:17<00:00, 27.14it/s]\n"
     ]
    },
    {
     "name": "stdout",
     "output_type": "stream",
     "text": [
      "Epoch [38/100] | Loss D: 0.5285 | Loss G: 1.1917\n"
     ]
    },
    {
     "name": "stderr",
     "output_type": "stream",
     "text": [
      "100%|██████████| 469/469 [00:16<00:00, 27.75it/s]\n"
     ]
    },
    {
     "name": "stdout",
     "output_type": "stream",
     "text": [
      "Epoch [39/100] | Loss D: 0.5360 | Loss G: 1.1718\n"
     ]
    },
    {
     "name": "stderr",
     "output_type": "stream",
     "text": [
      "100%|██████████| 469/469 [00:17<00:00, 27.12it/s]\n"
     ]
    },
    {
     "name": "stdout",
     "output_type": "stream",
     "text": [
      "Epoch [40/100] | Loss D: 0.5400 | Loss G: 1.1683\n"
     ]
    },
    {
     "data": {
      "text/plain": "<Figure size 800x600 with 12 Axes>",
      "image/png": "[encoded data removed]"
     },
     "metadata": {},
     "output_type": "display_data"
    },
    {
     "name": "stderr",
     "output_type": "stream",
     "text": [
      "100%|██████████| 469/469 [00:17<00:00, 26.89it/s]\n"
     ]
    },
    {
     "name": "stdout",
     "output_type": "stream",
     "text": [
      "Epoch [41/100] | Loss D: 0.5361 | Loss G: 1.1762\n"
     ]
    },
    {
     "name": "stderr",
     "output_type": "stream",
     "text": [
      "100%|██████████| 469/469 [00:16<00:00, 28.05it/s]\n"
     ]
    },
    {
     "name": "stdout",
     "output_type": "stream",
     "text": [
      "Epoch [42/100] | Loss D: 0.5362 | Loss G: 1.1845\n"
     ]
    },
    {
     "name": "stderr",
     "output_type": "stream",
     "text": [
      "100%|██████████| 469/469 [00:16<00:00, 29.21it/s]\n"
     ]
    },
    {
     "name": "stdout",
     "output_type": "stream",
     "text": [
      "Epoch [43/100] | Loss D: 0.5379 | Loss G: 1.1703\n"
     ]
    },
    {
     "name": "stderr",
     "output_type": "stream",
     "text": [
      "100%|██████████| 469/469 [00:16<00:00, 28.63it/s]\n"
     ]
    },
    {
     "name": "stdout",
     "output_type": "stream",
     "text": [
      "Epoch [44/100] | Loss D: 0.5418 | Loss G: 1.1560\n"
     ]
    },
    {
     "name": "stderr",
     "output_type": "stream",
     "text": [
      "100%|██████████| 469/469 [00:15<00:00, 29.33it/s]\n"
     ]
    },
    {
     "name": "stdout",
     "output_type": "stream",
     "text": [
      "Epoch [45/100] | Loss D: 0.5433 | Loss G: 1.1610\n"
     ]
    },
    {
     "name": "stderr",
     "output_type": "stream",
     "text": [
      "100%|██████████| 469/469 [00:15<00:00, 29.41it/s]\n"
     ]
    },
    {
     "name": "stdout",
     "output_type": "stream",
     "text": [
      "Epoch [46/100] | Loss D: 0.5374 | Loss G: 1.1751\n"
     ]
    },
    {
     "name": "stderr",
     "output_type": "stream",
     "text": [
      "100%|██████████| 469/469 [00:15<00:00, 29.35it/s]\n"
     ]
    },
    {
     "name": "stdout",
     "output_type": "stream",
     "text": [
      "Epoch [47/100] | Loss D: 0.5355 | Loss G: 1.1758\n"
     ]
    },
    {
     "name": "stderr",
     "output_type": "stream",
     "text": [
      "100%|██████████| 469/469 [00:16<00:00, 28.72it/s]\n"
     ]
    },
    {
     "name": "stdout",
     "output_type": "stream",
     "text": [
      "Epoch [48/100] | Loss D: 0.5395 | Loss G: 1.1725\n"
     ]
    },
    {
     "name": "stderr",
     "output_type": "stream",
     "text": [
      "100%|██████████| 469/469 [00:15<00:00, 29.31it/s]\n"
     ]
    },
    {
     "name": "stdout",
     "output_type": "stream",
     "text": [
      "Epoch [49/100] | Loss D: 0.5394 | Loss G: 1.1730\n"
     ]
    },
    {
     "name": "stderr",
     "output_type": "stream",
     "text": [
      "100%|██████████| 469/469 [00:15<00:00, 30.20it/s]\n"
     ]
    },
    {
     "name": "stdout",
     "output_type": "stream",
     "text": [
      "Epoch [50/100] | Loss D: 0.5398 | Loss G: 1.1661\n"
     ]
    },
    {
     "data": {
      "text/plain": "<Figure size 800x600 with 12 Axes>",
      "image/png": "[encoded data removed]"
     },
     "metadata": {},
     "output_type": "display_data"
    },
    {
     "name": "stderr",
     "output_type": "stream",
     "text": [
      "100%|██████████| 469/469 [00:14<00:00, 31.75it/s]\n"
     ]
    },
    {
     "name": "stdout",
     "output_type": "stream",
     "text": [
      "Epoch [51/100] | Loss D: 0.5360 | Loss G: 1.1795\n"
     ]
    },
    {
     "name": "stderr",
     "output_type": "stream",
     "text": [
      "100%|██████████| 469/469 [00:14<00:00, 31.92it/s]\n"
     ]
    },
    {
     "name": "stdout",
     "output_type": "stream",
     "text": [
      "Epoch [52/100] | Loss D: 0.5375 | Loss G: 1.1718\n"
     ]
    },
    {
     "name": "stderr",
     "output_type": "stream",
     "text": [
      "100%|██████████| 469/469 [00:14<00:00, 32.05it/s]\n"
     ]
    },
    {
     "name": "stdout",
     "output_type": "stream",
     "text": [
      "Epoch [53/100] | Loss D: 0.5354 | Loss G: 1.1779\n"
     ]
    },
    {
     "name": "stderr",
     "output_type": "stream",
     "text": [
      "100%|██████████| 469/469 [00:14<00:00, 32.52it/s]\n"
     ]
    },
    {
     "name": "stdout",
     "output_type": "stream",
     "text": [
      "Epoch [54/100] | Loss D: 0.5359 | Loss G: 1.1709\n"
     ]
    },
    {
     "name": "stderr",
     "output_type": "stream",
     "text": [
      "100%|██████████| 469/469 [00:14<00:00, 32.81it/s]\n"
     ]
    },
    {
     "name": "stdout",
     "output_type": "stream",
     "text": [
      "Epoch [55/100] | Loss D: 0.5351 | Loss G: 1.1705\n"
     ]
    },
    {
     "name": "stderr",
     "output_type": "stream",
     "text": [
      "100%|██████████| 469/469 [00:14<00:00, 32.30it/s]\n"
     ]
    },
    {
     "name": "stdout",
     "output_type": "stream",
     "text": [
      "Epoch [56/100] | Loss D: 0.5338 | Loss G: 1.1745\n"
     ]
    },
    {
     "name": "stderr",
     "output_type": "stream",
     "text": [
      "100%|██████████| 469/469 [00:14<00:00, 31.35it/s]\n"
     ]
    },
    {
     "name": "stdout",
     "output_type": "stream",
     "text": [
      "Epoch [57/100] | Loss D: 0.5382 | Loss G: 1.1721\n"
     ]
    },
    {
     "name": "stderr",
     "output_type": "stream",
     "text": [
      "100%|██████████| 469/469 [00:14<00:00, 31.36it/s]\n"
     ]
    },
    {
     "name": "stdout",
     "output_type": "stream",
     "text": [
      "Epoch [58/100] | Loss D: 0.5362 | Loss G: 1.1793\n"
     ]
    },
    {
     "name": "stderr",
     "output_type": "stream",
     "text": [
      "100%|██████████| 469/469 [00:14<00:00, 32.22it/s]\n"
     ]
    },
    {
     "name": "stdout",
     "output_type": "stream",
     "text": [
      "Epoch [59/100] | Loss D: 0.5383 | Loss G: 1.1664\n"
     ]
    },
    {
     "name": "stderr",
     "output_type": "stream",
     "text": [
      "100%|██████████| 469/469 [00:14<00:00, 32.44it/s]\n"
     ]
    },
    {
     "name": "stdout",
     "output_type": "stream",
     "text": [
      "Epoch [60/100] | Loss D: 0.5364 | Loss G: 1.1750\n"
     ]
    },
    {
     "data": {
      "text/plain": "<Figure size 800x600 with 12 Axes>",
      "image/png": "[encoded data removed]"
     },
     "metadata": {},
     "output_type": "display_data"
    },
    {
     "name": "stderr",
     "output_type": "stream",
     "text": [
      "100%|██████████| 469/469 [00:14<00:00, 32.56it/s]\n"
     ]
    },
    {
     "name": "stdout",
     "output_type": "stream",
     "text": [
      "Epoch [61/100] | Loss D: 0.5353 | Loss G: 1.1766\n"
     ]
    },
    {
     "name": "stderr",
     "output_type": "stream",
     "text": [
      "100%|██████████| 469/469 [00:14<00:00, 32.86it/s]\n"
     ]
    },
    {
     "name": "stdout",
     "output_type": "stream",
     "text": [
      "Epoch [62/100] | Loss D: 0.5420 | Loss G: 1.1592\n"
     ]
    },
    {
     "name": "stderr",
     "output_type": "stream",
     "text": [
      "100%|██████████| 469/469 [00:14<00:00, 32.85it/s]\n"
     ]
    },
    {
     "name": "stdout",
     "output_type": "stream",
     "text": [
      "Epoch [63/100] | Loss D: 0.5389 | Loss G: 1.1708\n"
     ]
    },
    {
     "name": "stderr",
     "output_type": "stream",
     "text": [
      "100%|██████████| 469/469 [00:14<00:00, 32.76it/s]\n"
     ]
    },
    {
     "name": "stdout",
     "output_type": "stream",
     "text": [
      "Epoch [64/100] | Loss D: 0.5387 | Loss G: 1.1595\n"
     ]
    },
    {
     "name": "stderr",
     "output_type": "stream",
     "text": [
      "100%|██████████| 469/469 [00:14<00:00, 31.79it/s]\n"
     ]
    },
    {
     "name": "stdout",
     "output_type": "stream",
     "text": [
      "Epoch [65/100] | Loss D: 0.5390 | Loss G: 1.1615\n"
     ]
    },
    {
     "name": "stderr",
     "output_type": "stream",
     "text": [
      "100%|██████████| 469/469 [00:14<00:00, 31.44it/s]\n"
     ]
    },
    {
     "name": "stdout",
     "output_type": "stream",
     "text": [
      "Epoch [66/100] | Loss D: 0.5404 | Loss G: 1.1676\n"
     ]
    },
    {
     "name": "stderr",
     "output_type": "stream",
     "text": [
      "100%|██████████| 469/469 [00:14<00:00, 31.28it/s]\n"
     ]
    },
    {
     "name": "stdout",
     "output_type": "stream",
     "text": [
      "Epoch [67/100] | Loss D: 0.5386 | Loss G: 1.1682\n"
     ]
    },
    {
     "name": "stderr",
     "output_type": "stream",
     "text": [
      "100%|██████████| 469/469 [00:14<00:00, 31.43it/s]\n"
     ]
    },
    {
     "name": "stdout",
     "output_type": "stream",
     "text": [
      "Epoch [68/100] | Loss D: 0.5428 | Loss G: 1.1560\n"
     ]
    },
    {
     "name": "stderr",
     "output_type": "stream",
     "text": [
      "100%|██████████| 469/469 [00:14<00:00, 31.90it/s]\n"
     ]
    },
    {
     "name": "stdout",
     "output_type": "stream",
     "text": [
      "Epoch [69/100] | Loss D: 0.5431 | Loss G: 1.1521\n"
     ]
    },
    {
     "name": "stderr",
     "output_type": "stream",
     "text": [
      "100%|██████████| 469/469 [00:14<00:00, 31.80it/s]\n"
     ]
    },
    {
     "name": "stdout",
     "output_type": "stream",
     "text": [
      "Epoch [70/100] | Loss D: 0.5403 | Loss G: 1.1659\n"
     ]
    },
    {
     "data": {
      "text/plain": "<Figure size 800x600 with 12 Axes>",
      "image/png": "[encoded data removed]"
     },
     "metadata": {},
     "output_type": "display_data"
    },
    {
     "name": "stderr",
     "output_type": "stream",
     "text": [
      "100%|██████████| 469/469 [00:14<00:00, 31.78it/s]\n"
     ]
    },
    {
     "name": "stdout",
     "output_type": "stream",
     "text": [
      "Epoch [71/100] | Loss D: 0.5383 | Loss G: 1.1664\n"
     ]
    },
    {
     "name": "stderr",
     "output_type": "stream",
     "text": [
      "100%|██████████| 469/469 [00:15<00:00, 31.08it/s]\n"
     ]
    },
    {
     "name": "stdout",
     "output_type": "stream",
     "text": [
      "Epoch [72/100] | Loss D: 0.5416 | Loss G: 1.1491\n"
     ]
    },
    {
     "name": "stderr",
     "output_type": "stream",
     "text": [
      "100%|██████████| 469/469 [00:14<00:00, 31.97it/s]\n"
     ]
    },
    {
     "name": "stdout",
     "output_type": "stream",
     "text": [
      "Epoch [73/100] | Loss D: 0.5415 | Loss G: 1.1598\n"
     ]
    },
    {
     "name": "stderr",
     "output_type": "stream",
     "text": [
      "100%|██████████| 469/469 [00:14<00:00, 31.63it/s]\n"
     ]
    },
    {
     "name": "stdout",
     "output_type": "stream",
     "text": [
      "Epoch [74/100] | Loss D: 0.5390 | Loss G: 1.1621\n"
     ]
    },
    {
     "name": "stderr",
     "output_type": "stream",
     "text": [
      "100%|██████████| 469/469 [00:15<00:00, 31.26it/s]\n"
     ]
    },
    {
     "name": "stdout",
     "output_type": "stream",
     "text": [
      "Epoch [75/100] | Loss D: 0.5402 | Loss G: 1.1623\n"
     ]
    },
    {
     "name": "stderr",
     "output_type": "stream",
     "text": [
      "100%|██████████| 469/469 [00:14<00:00, 31.87it/s]\n"
     ]
    },
    {
     "name": "stdout",
     "output_type": "stream",
     "text": [
      "Epoch [76/100] | Loss D: 0.5386 | Loss G: 1.1673\n"
     ]
    },
    {
     "name": "stderr",
     "output_type": "stream",
     "text": [
      "100%|██████████| 469/469 [00:14<00:00, 31.53it/s]\n"
     ]
    },
    {
     "name": "stdout",
     "output_type": "stream",
     "text": [
      "Epoch [77/100] | Loss D: 0.5346 | Loss G: 1.1760\n"
     ]
    },
    {
     "name": "stderr",
     "output_type": "stream",
     "text": [
      "100%|██████████| 469/469 [00:14<00:00, 32.19it/s]\n"
     ]
    },
    {
     "name": "stdout",
     "output_type": "stream",
     "text": [
      "Epoch [78/100] | Loss D: 0.5359 | Loss G: 1.1748\n"
     ]
    },
    {
     "name": "stderr",
     "output_type": "stream",
     "text": [
      "100%|██████████| 469/469 [00:14<00:00, 32.65it/s]\n"
     ]
    },
    {
     "name": "stdout",
     "output_type": "stream",
     "text": [
      "Epoch [79/100] | Loss D: 0.5356 | Loss G: 1.1644\n"
     ]
    },
    {
     "name": "stderr",
     "output_type": "stream",
     "text": [
      "100%|██████████| 469/469 [00:14<00:00, 31.98it/s]\n"
     ]
    },
    {
     "name": "stdout",
     "output_type": "stream",
     "text": [
      "Epoch [80/100] | Loss D: 0.5347 | Loss G: 1.1787\n"
     ]
    },
    {
     "data": {
      "text/plain": "<Figure size 800x600 with 12 Axes>",
      "image/png": "[encoded data removed]"
     },
     "metadata": {},
     "output_type": "display_data"
    },
    {
     "name": "stderr",
     "output_type": "stream",
     "text": [
      "100%|██████████| 469/469 [00:14<00:00, 31.41it/s]\n"
     ]
    },
    {
     "name": "stdout",
     "output_type": "stream",
     "text": [
      "Epoch [81/100] | Loss D: 0.5388 | Loss G: 1.1676\n"
     ]
    },
    {
     "name": "stderr",
     "output_type": "stream",
     "text": [
      "100%|██████████| 469/469 [00:14<00:00, 31.34it/s]\n"
     ]
    },
    {
     "name": "stdout",
     "output_type": "stream",
     "text": [
      "Epoch [82/100] | Loss D: 0.5359 | Loss G: 1.1743\n"
     ]
    },
    {
     "name": "stderr",
     "output_type": "stream",
     "text": [
      "100%|██████████| 469/469 [00:15<00:00, 30.38it/s]\n"
     ]
    },
    {
     "name": "stdout",
     "output_type": "stream",
     "text": [
      "Epoch [83/100] | Loss D: 0.5356 | Loss G: 1.1784\n"
     ]
    },
    {
     "name": "stderr",
     "output_type": "stream",
     "text": [
      "100%|██████████| 469/469 [00:14<00:00, 31.99it/s]\n"
     ]
    },
    {
     "name": "stdout",
     "output_type": "stream",
     "text": [
      "Epoch [84/100] | Loss D: 0.5333 | Loss G: 1.1790\n"
     ]
    },
    {
     "name": "stderr",
     "output_type": "stream",
     "text": [
      "100%|██████████| 469/469 [00:15<00:00, 31.06it/s]\n"
     ]
    },
    {
     "name": "stdout",
     "output_type": "stream",
     "text": [
      "Epoch [85/100] | Loss D: 0.5336 | Loss G: 1.1828\n"
     ]
    },
    {
     "name": "stderr",
     "output_type": "stream",
     "text": [
      "100%|██████████| 469/469 [00:15<00:00, 31.06it/s]\n"
     ]
    },
    {
     "name": "stdout",
     "output_type": "stream",
     "text": [
      "Epoch [86/100] | Loss D: 0.5346 | Loss G: 1.1777\n"
     ]
    },
    {
     "name": "stderr",
     "output_type": "stream",
     "text": [
      "100%|██████████| 469/469 [00:15<00:00, 30.84it/s]\n"
     ]
    },
    {
     "name": "stdout",
     "output_type": "stream",
     "text": [
      "Epoch [87/100] | Loss D: 0.5356 | Loss G: 1.1725\n"
     ]
    },
    {
     "name": "stderr",
     "output_type": "stream",
     "text": [
      "100%|██████████| 469/469 [00:14<00:00, 32.30it/s]\n"
     ]
    },
    {
     "name": "stdout",
     "output_type": "stream",
     "text": [
      "Epoch [88/100] | Loss D: 0.5331 | Loss G: 1.1857\n"
     ]
    },
    {
     "name": "stderr",
     "output_type": "stream",
     "text": [
      "100%|██████████| 469/469 [00:14<00:00, 32.29it/s]\n"
     ]
    },
    {
     "name": "stdout",
     "output_type": "stream",
     "text": [
      "Epoch [89/100] | Loss D: 0.5325 | Loss G: 1.1817\n"
     ]
    },
    {
     "name": "stderr",
     "output_type": "stream",
     "text": [
      "100%|██████████| 469/469 [00:14<00:00, 31.57it/s]\n"
     ]
    },
    {
     "name": "stdout",
     "output_type": "stream",
     "text": [
      "Epoch [90/100] | Loss D: 0.5324 | Loss G: 1.1824\n"
     ]
    },
    {
     "data": {
      "text/plain": "<Figure size 800x600 with 12 Axes>",
      "image/png": "[encoded data removed]"
     },
     "metadata": {},
     "output_type": "display_data"
    },
    {
     "name": "stderr",
     "output_type": "stream",
     "text": [
      "100%|██████████| 469/469 [00:14<00:00, 31.33it/s]\n"
     ]
    },
    {
     "name": "stdout",
     "output_type": "stream",
     "text": [
      "Epoch [91/100] | Loss D: 0.5339 | Loss G: 1.1768\n"
     ]
    },
    {
     "name": "stderr",
     "output_type": "stream",
     "text": [
      "100%|██████████| 469/469 [00:14<00:00, 32.15it/s]\n"
     ]
    },
    {
     "name": "stdout",
     "output_type": "stream",
     "text": [
      "Epoch [92/100] | Loss D: 0.5329 | Loss G: 1.1775\n"
     ]
    },
    {
     "name": "stderr",
     "output_type": "stream",
     "text": [
      "100%|██████████| 469/469 [00:14<00:00, 31.88it/s]\n"
     ]
    },
    {
     "name": "stdout",
     "output_type": "stream",
     "text": [
      "Epoch [93/100] | Loss D: 0.5333 | Loss G: 1.1796\n"
     ]
    },
    {
     "name": "stderr",
     "output_type": "stream",
     "text": [
      "100%|██████████| 469/469 [00:14<00:00, 31.92it/s]\n"
     ]
    },
    {
     "name": "stdout",
     "output_type": "stream",
     "text": [
      "Epoch [94/100] | Loss D: 0.5330 | Loss G: 1.1854\n"
     ]
    },
    {
     "name": "stderr",
     "output_type": "stream",
     "text": [
      "100%|██████████| 469/469 [00:15<00:00, 31.21it/s]\n"
     ]
    },
    {
     "name": "stdout",
     "output_type": "stream",
     "text": [
      "Epoch [95/100] | Loss D: 0.5351 | Loss G: 1.1784\n"
     ]
    },
    {
     "name": "stderr",
     "output_type": "stream",
     "text": [
      "100%|██████████| 469/469 [00:14<00:00, 31.41it/s]\n"
     ]
    },
    {
     "name": "stdout",
     "output_type": "stream",
     "text": [
      "Epoch [96/100] | Loss D: 0.5304 | Loss G: 1.1913\n"
     ]
    },
    {
     "name": "stderr",
     "output_type": "stream",
     "text": [
      "100%|██████████| 469/469 [00:14<00:00, 31.64it/s]\n"
     ]
    },
    {
     "name": "stdout",
     "output_type": "stream",
     "text": [
      "Epoch [97/100] | Loss D: 0.5267 | Loss G: 1.2059\n"
     ]
    },
    {
     "name": "stderr",
     "output_type": "stream",
     "text": [
      "100%|██████████| 469/469 [00:14<00:00, 32.46it/s]\n"
     ]
    },
    {
     "name": "stdout",
     "output_type": "stream",
     "text": [
      "Epoch [98/100] | Loss D: 0.5295 | Loss G: 1.1853\n"
     ]
    },
    {
     "name": "stderr",
     "output_type": "stream",
     "text": [
      "100%|██████████| 469/469 [00:14<00:00, 31.89it/s]\n"
     ]
    },
    {
     "name": "stdout",
     "output_type": "stream",
     "text": [
      "Epoch [99/100] | Loss D: 0.5332 | Loss G: 1.1774\n"
     ]
    },
    {
     "name": "stderr",
     "output_type": "stream",
     "text": [
      "100%|██████████| 469/469 [00:14<00:00, 31.81it/s]\n"
     ]
    },
    {
     "name": "stdout",
     "output_type": "stream",
     "text": [
      "Epoch [100/100] | Loss D: 0.5321 | Loss G: 1.1815\n"
     ]
    },
    {
     "data": {
      "text/plain": "<Figure size 800x600 with 12 Axes>",
      "image/png": "[encoded data removed]"
     },
     "metadata": {},
     "output_type": "display_data"
    }
   ],
   "source": [
    "def train_loop():\n",
    "\n",
    "    loss_fn = nn.BCELoss()\n",
    "\n",
    "    disc_losses = np.zeros(epochs)\n",
    "    gen_losses = np.zeros(epochs)\n",
    "    sample_every = 10\n",
    "    gen.train()\n",
    "    disc.train()\n",
    "\n",
    "    for epoch in range(epochs):\n",
    "\n",
    "        gen_loss = 0\n",
    "        disc_loss = 0\n",
    "\n",
    "        for i, (x, _) in enumerate(tqdm(train_loader)):\n",
    "\n",
    "            # ------------------------ Train Discriminator: ------------------------\n",
    "            # zero gradients:\n",
    "            opt_disc.zero_grad()\n",
    "            # move batch to device\n",
    "            x = x.to(device)\n",
    "            # create noise:\n",
    "            z = tc.randn(x.shape[0], noise_dim)\n",
    "            z = z.to(device)\n",
    "            # call G with noise:\n",
    "            x_hat = gen(z)\n",
    "            # D predicts 1 for real samples:\n",
    "            target_real = tc.ones((x.shape[0], 1)).to(device)\n",
    "            # D predicts 0 for fake samples:\n",
    "            target_fake = tc.zeros((x.shape[0], 1)).to(device)\n",
    "            # call D with real input:\n",
    "            pred_real = disc(x)\n",
    "            # call D with fake input:\n",
    "            pred_fake = disc(x_hat)\n",
    "            # measure losses for both:\n",
    "            loss_real = loss_fn(pred_real, target_real)\n",
    "            loss_fake = loss_fn(pred_fake, target_fake)\n",
    "            loss_disc = (loss_real + loss_fake) / 2\n",
    "            disc_loss += loss_disc.item()\n",
    "            # backpropagate on D:\n",
    "            loss_disc.backward()\n",
    "            # update D's weights:\n",
    "            opt_disc.step()\n",
    "\n",
    "            # ------------------------ Train Generator: ------------------------\n",
    "            # create noise:\n",
    "            z = tc.randn(x.shape[0], noise_dim)\n",
    "            z = z.to(device)\n",
    "            # call G with noise:\n",
    "            x_hat = gen(z)\n",
    "            # D predicts 1 for real samples:\n",
    "            # target_real = tc.ones((x.shape[0], 1)).to(device)\n",
    "            # call D:\n",
    "            pred_fake = disc(x_hat)\n",
    "            # measure G's loss:\n",
    "            loss_gen = loss_fn(pred_fake, target_real)\n",
    "            gen_loss += loss_gen.item()\n",
    "            # zero gradients:\n",
    "            gen.zero_grad()\n",
    "            # backpropagate on G:\n",
    "            loss_gen.backward()\n",
    "            # update G's weights:\n",
    "            opt_gen.step()\n",
    "\n",
    "        # Print:\n",
    "        disc_losses[epoch] = disc_loss / len(train_loader)\n",
    "        gen_losses[epoch] = gen_loss / len(train_loader)\n",
    "        print(f\"Epoch [{epoch+1}/{epochs}] | Loss D: {disc_losses[epoch]:.4f} | Loss G: {gen_losses[epoch]:.4f}\")\n",
    "        # Sample:\n",
    "        if (epoch + 1) % sample_every == 0:\n",
    "            gen.eval()\n",
    "            generate(no_samples, f\"Epoch {epoch + 1}\")\n",
    "            gen.train()\n",
    "\n",
    "    return disc_losses, gen_losses\n",
    "\n",
    "d_loss, g_loss = train_loop()"
   ],
   "metadata": {
    "collapsed": false,
    "ExecuteTime": {
     "end_time": "2024-04-12T10:22:03.574754300Z",
     "start_time": "2024-04-12T10:22:01.620121100Z"
    }
   }
  },
  {
   "cell_type": "markdown",
   "source": [
    "## Plot Losses:"
   ],
   "metadata": {
    "collapsed": false
   }
  },
  {
   "cell_type": "code",
   "execution_count": 23,
   "outputs": [
    {
     "data": {
      "text/plain": "<Figure size 1500x500 with 2 Axes>",
      "image/png": "[encoded data removed]"
     },
     "metadata": {},
     "output_type": "display_data"
    }
   ],
   "source": [
    "epoch_ax = np.arange(start=1, stop=epochs+1, step=1)\n",
    "_, ax = plt.subplots(1, 2, figsize=(15, 5))\n",
    "\n",
    "ax[0].plot(epoch_ax, d_loss, color='blue')\n",
    "ax[0].set_xlim(1, epochs)\n",
    "ax[0].set_title(\"Discriminator Loss vs Epoch\")\n",
    "ax[0].grid()\n",
    "\n",
    "ax[1].plot(epoch_ax, g_loss, color='red')\n",
    "ax[1].set_xlim(1, epochs)\n",
    "ax[1].set_title(\"Generator Loss vs Epoch\")\n",
    "ax[1].grid()\n",
    "\n",
    "plt.tight_layout()\n",
    "plt.show()\n",
    "plt.close()"
   ],
   "metadata": {
    "collapsed": false
   }
  },
  {
   "cell_type": "markdown",
   "source": [
    "- Notice that when Discriminator improves, Generator gets worse and vice versa.\n",
    "- Training GANs can prove hard and unstable.\n",
    "- How to improve our digit generations?"
   ],
   "metadata": {
    "collapsed": false
   }
  },
  {
   "cell_type": "code",
   "execution_count": null,
   "outputs": [],
   "source": [],
   "metadata": {
    "collapsed": false
   }
  }
 ],
 "metadata": {
  "kernelspec": {
   "display_name": "hy673",
   "language": "python",
   "name": "python3"
  },
  "language_info": {
   "codemirror_mode": {
    "name": "ipython",
    "version": 3
   },
   "file_extension": ".py",
   "mimetype": "text/x-python",
   "name": "python",
   "nbconvert_exporter": "python",
   "pygments_lexer": "ipython3",
   "version": "3.10.9"
  },
  "orig_nbformat": 4
 },
 "nbformat": 4,
 "nbformat_minor": 2
}
