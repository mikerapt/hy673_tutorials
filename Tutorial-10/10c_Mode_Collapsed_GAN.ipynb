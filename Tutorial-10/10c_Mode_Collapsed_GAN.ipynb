{
 "cells": [
  {
   "cell_type": "code",
   "source": [
    "# # Comment the following lines if you're not in colab:\n",
    "# from google.colab import drive\n",
    "# drive.mount('/content/drive')\n",
    "# # # If you're in colab, cd to your own working directory here:\n",
    "# %cd ..//..//content//drive//MyDrive//Colab-Notebooks//HY-673-Tutorials//Tutorial-10"
   ],
   "metadata": {
    "colab": {
     "base_uri": "https://localhost:8080/"
    },
    "id": "IzE6fXnNgP-s",
    "outputId": "8c409a5d-dba5-4c24-db38-ce49a575e891"
   },
   "execution_count": 1,
   "outputs": [
    {
     "output_type": "stream",
     "name": "stdout",
     "text": [
      "Drive already mounted at /content/drive; to attempt to forcibly remount, call drive.mount(\"/content/drive\", force_remount=True).\n",
      "/content/drive/MyDrive/Colab-Notebooks/HY-673-Tutorials/Tutorial-9\n"
     ]
    }
   ]
  },
  {
   "cell_type": "markdown",
   "source": [
    "### Imports"
   ],
   "metadata": {
    "collapsed": false,
    "id": "vPE3EMohgPO4"
   }
  },
  {
   "cell_type": "code",
   "execution_count": 1,
   "metadata": {
    "id": "kV9ICNjrgPO5"
   },
   "outputs": [],
   "source": [
    "import torch as tc\n",
    "import torch.nn as nn\n",
    "import torchvision.transforms as transforms\n",
    "from torch.optim import Adam\n",
    "from torchvision.datasets import MNIST\n",
    "from torch.utils.data import DataLoader\n",
    "from torchsummary import summary\n",
    "\n",
    "import numpy as np\n",
    "import matplotlib.pyplot as plt\n",
    "from tqdm import tqdm"
   ]
  },
  {
   "cell_type": "code",
   "execution_count": 2,
   "metadata": {
    "colab": {
     "base_uri": "https://localhost:8080/"
    },
    "id": "q5dRZAYRgPO5",
    "outputId": "8e6bd319-e720-4144-d46e-bda6812ca4c5"
   },
   "outputs": [
    {
     "name": "stdout",
     "output_type": "stream",
     "text": [
      "Using cuda\n"
     ]
    }
   ],
   "source": [
    "seed = 42\n",
    "tc.manual_seed(seed)\n",
    "np.random.seed(seed)\n",
    "device = 'cuda' if tc.cuda.is_available() else 'cpu'\n",
    "print(f\"Using {device}\")\n",
    "\n",
    "epochs = 50\n",
    "batch_size = 128\n",
    "lr = 2e-4\n",
    "betas = (0.5, 0.999)"
   ]
  },
  {
   "cell_type": "markdown",
   "source": [
    "### Batch Normalization (1D)\n",
    "\n",
    "Applies Batch Normalization over a 2D or 3D input as described in https://arxiv.org/pdf/1502.03167.pdf\n",
    "\\begin{equation}\n",
    "y = \\frac{x - \\mathbb{E}[x]}{\\sqrt{\\text{Var}[x] + \\epsilon}} * \\gamma + \\beta,\n",
    "\\end{equation}\n",
    "where $x$ is the input, $y$ is the output, $\\gamma$ and $\\beta$ are trainable parameter vectors of size $C$ = number of features/channels of the input, and $\\epsilon$ is a small value for numerical stability."
   ],
   "metadata": {
    "collapsed": false,
    "id": "UkvMWntRgPO6"
   }
  },
  {
   "cell_type": "markdown",
   "source": [
    "### Generator (G)\n",
    "\n",
    "Same architecture type with fewer layers and batch normalization:"
   ],
   "metadata": {
    "collapsed": false,
    "id": "4--cYcYTgPO6"
   }
  },
  {
   "cell_type": "code",
   "execution_count": 3,
   "outputs": [],
   "source": [
    "class Generator(nn.Module):\n",
    "    def __init__(self, input_shape=(1, 28, 28), noise_shape=(100,)):\n",
    "        super().__init__()\n",
    "        self.noise_shape = noise_shape\n",
    "        self.noise_dim = np.prod(noise_shape)\n",
    "        self.data_shape = input_shape\n",
    "        self.data_dim = np.prod(input_shape)\n",
    "        layers_config = [\n",
    "            (self.noise_dim, 128), # (in_channels, out_channels)\n",
    "            (128, 256),\n",
    "            (256, 512)\n",
    "        ]\n",
    "        layers = []\n",
    "        for in_features, out_features in layers_config:\n",
    "            layers.append(nn.Linear(in_features=in_features, out_features=out_features))\n",
    "            layers.append(nn.PReLU())\n",
    "            layers.append(nn.BatchNorm1d(num_features=out_features))\n",
    "        layers.append(nn.Linear(in_features=layers_config[-1][1], out_features=self.data_dim))\n",
    "        layers.append(nn.Tanh())\n",
    "        self.generator = nn.Sequential(*layers)\n",
    "\n",
    "    def forward(self, noise):\n",
    "        noise = noise.view(-1, self.noise_dim)\n",
    "        return self.generator(noise).view(-1, *self.data_shape)"
   ],
   "metadata": {
    "id": "fOyH9mRAgPO6"
   }
  },
  {
   "cell_type": "markdown",
   "source": [
    "### Discriminator (D)\n",
    "\n",
    "Same architecture type with fewer layers and batch normalization:"
   ],
   "metadata": {
    "collapsed": false,
    "id": "hMwAzmu8gPO7"
   }
  },
  {
   "cell_type": "code",
   "execution_count": 4,
   "metadata": {
    "id": "fhg8mWzegPO7"
   },
   "outputs": [],
   "source": [
    "class Discriminator(nn.Module):\n",
    "    def __init__(self, input_shape=(1, 28, 28)):\n",
    "        super().__init__()\n",
    "        self.data_shape = input_shape\n",
    "        self.data_dim = np.prod(input_shape)\n",
    "        layers = []\n",
    "        conv_layers = [\n",
    "            (1, 64),  # (in_channels, out_channels)\n",
    "            (64, 128)\n",
    "        ]\n",
    "        for in_channels, out_channels in conv_layers:\n",
    "            layers.append(nn.Conv2d(\n",
    "                in_channels=in_channels, out_channels=out_channels,\n",
    "                kernel_size=3, stride=1, padding=1\n",
    "            ))\n",
    "            layers.append(nn.PReLU())\n",
    "            layers.append(nn.MaxPool2d(kernel_size=2, stride=2))\n",
    "        layers.append(nn.Flatten())\n",
    "        feature_map_size = (input_shape[1] // 4) * (input_shape[2] // 4) * conv_layers[-1][1]\n",
    "        layers.append(nn.Linear(in_features=feature_map_size, out_features=128))\n",
    "        layers.append(nn.Linear(in_features=128, out_features=1))\n",
    "        layers.append(nn.Sigmoid())\n",
    "        self.discriminator = nn.Sequential(*layers)\n",
    "\n",
    "    def forward(self, x):\n",
    "        x = x.view(-1, *self.data_shape)\n",
    "        return self.discriminator(x)"
   ]
  },
  {
   "cell_type": "markdown",
   "source": [
    "### Dataset"
   ],
   "metadata": {
    "collapsed": false,
    "id": "4f44DvhXgPO7"
   }
  },
  {
   "cell_type": "code",
   "execution_count": 5,
   "metadata": {
    "id": "rVj3WJqCgPO7"
   },
   "outputs": [],
   "source": [
    "# Load MNIST dataset\n",
    "transform = transforms.Compose([\n",
    "    transforms.ToTensor(),\n",
    "    transforms.Normalize(mean=[0.5], std=[0.5])\n",
    "])\n",
    "train_set = MNIST(root=\"./data\", train=True, download=True, transform=transform)\n",
    "train_loader = DataLoader(train_set, batch_size=batch_size, shuffle=True)"
   ]
  },
  {
   "cell_type": "markdown",
   "source": [
    "### Models"
   ],
   "metadata": {
    "collapsed": false,
    "id": "_vBpvPJRgPO7"
   }
  },
  {
   "cell_type": "code",
   "execution_count": 6,
   "outputs": [],
   "source": [
    "data_shape = (1, 28, 28)\n",
    "noise_dim = 100"
   ],
   "metadata": {
    "id": "XfTdXBaAgPO7"
   }
  },
  {
   "cell_type": "code",
   "execution_count": 7,
   "outputs": [],
   "source": [
    "def print_dims(architecture, in_shape):\n",
    "    print(f\"In shape = {in_shape}\")\n",
    "    dummy_input = tc.randn(in_shape).to(device)\n",
    "    current_output = dummy_input\n",
    "    for layer in architecture:\n",
    "        current_output = layer(current_output)\n",
    "        print(f\"Out shape after {type(layer).__name__} = {current_output.shape}\")"
   ],
   "metadata": {
    "id": "9zxCT5BqgPO8"
   }
  },
  {
   "cell_type": "code",
   "execution_count": 8,
   "metadata": {
    "colab": {
     "base_uri": "https://localhost:8080/"
    },
    "id": "pzJlLHklgPO8",
    "outputId": "3cf6ec13-7556-4532-97f4-a99c1b3ccf29"
   },
   "outputs": [
    {
     "name": "stdout",
     "output_type": "stream",
     "text": [
      "==========================================================================================\n",
      "Layer (type:depth-idx)                   Output Shape              Param #\n",
      "==========================================================================================\n",
      "├─Sequential: 1-1                        [-1, 784]                 --\n",
      "|    └─Linear: 2-1                       [-1, 128]                 12,928\n",
      "|    └─PReLU: 2-2                        [-1, 128]                 1\n",
      "|    └─BatchNorm1d: 2-3                  [-1, 128]                 256\n",
      "|    └─Linear: 2-4                       [-1, 256]                 33,024\n",
      "|    └─PReLU: 2-5                        [-1, 256]                 1\n",
      "|    └─BatchNorm1d: 2-6                  [-1, 256]                 512\n",
      "|    └─Linear: 2-7                       [-1, 512]                 131,584\n",
      "|    └─PReLU: 2-8                        [-1, 512]                 1\n",
      "|    └─BatchNorm1d: 2-9                  [-1, 512]                 1,024\n",
      "|    └─Linear: 2-10                      [-1, 784]                 402,192\n",
      "|    └─Tanh: 2-11                        [-1, 784]                 --\n",
      "==========================================================================================\n",
      "Total params: 581,523\n",
      "Trainable params: 581,523\n",
      "Non-trainable params: 0\n",
      "Total mult-adds (M): 1.16\n",
      "==========================================================================================\n",
      "Input size (MB): 0.05\n",
      "Forward/backward pass size (MB): 0.03\n",
      "Params size (MB): 2.22\n",
      "Estimated Total Size (MB): 2.29\n",
      "==========================================================================================\n"
     ]
    }
   ],
   "source": [
    "gen = Generator(input_shape=data_shape, noise_shape=(noise_dim,)).to(device)\n",
    "opt_gen = Adam(params=gen.parameters(), lr=lr, betas=betas)\n",
    "\n",
    "_ = summary(model=gen, input_data=tc.zeros(size=(batch_size, noise_dim)))"
   ]
  },
  {
   "cell_type": "code",
   "execution_count": 9,
   "metadata": {
    "colab": {
     "base_uri": "https://localhost:8080/"
    },
    "id": "p7ZLuo_5gPO8",
    "outputId": "5f0e5278-e4df-46ad-b624-e98ed9e98891"
   },
   "outputs": [
    {
     "name": "stdout",
     "output_type": "stream",
     "text": [
      "==========================================================================================\n",
      "Layer (type:depth-idx)                   Output Shape              Param #\n",
      "==========================================================================================\n",
      "├─Sequential: 1-1                        [-1, 1]                   --\n",
      "|    └─Conv2d: 2-1                       [-1, 64, 28, 28]          640\n",
      "|    └─PReLU: 2-2                        [-1, 64, 28, 28]          1\n",
      "|    └─MaxPool2d: 2-3                    [-1, 64, 14, 14]          --\n",
      "|    └─Conv2d: 2-4                       [-1, 128, 14, 14]         73,856\n",
      "|    └─PReLU: 2-5                        [-1, 128, 14, 14]         1\n",
      "|    └─MaxPool2d: 2-6                    [-1, 128, 7, 7]           --\n",
      "|    └─Flatten: 2-7                      [-1, 6272]                --\n",
      "|    └─Linear: 2-8                       [-1, 128]                 802,944\n",
      "|    └─Linear: 2-9                       [-1, 1]                   129\n",
      "|    └─Sigmoid: 2-10                     [-1, 1]                   --\n",
      "==========================================================================================\n",
      "Total params: 877,571\n",
      "Trainable params: 877,571\n",
      "Non-trainable params: 0\n",
      "Total mult-adds (M): 16.58\n",
      "==========================================================================================\n",
      "Input size (MB): 0.38\n",
      "Forward/backward pass size (MB): 1.15\n",
      "Params size (MB): 3.35\n",
      "Estimated Total Size (MB): 4.88\n",
      "==========================================================================================\n"
     ]
    }
   ],
   "source": [
    "disc = Discriminator(input_shape=data_shape).to(device)\n",
    "opt_disc = Adam(params=disc.parameters(), lr=lr, betas=betas)\n",
    "\n",
    "_ = summary(model=disc, input_data=tc.zeros(size=(batch_size, np.prod(data_shape))))"
   ]
  },
  {
   "cell_type": "markdown",
   "source": [
    "### Generation/Sampling"
   ],
   "metadata": {
    "collapsed": false,
    "id": "gHCwb9psgPO8"
   }
  },
  {
   "cell_type": "code",
   "execution_count": 11,
   "metadata": {
    "colab": {
     "base_uri": "https://localhost:8080/",
     "height": 558
    },
    "id": "5YkdTL79gPO8",
    "outputId": "9bb8164b-5dd1-48b1-ac6a-5971c14be963"
   },
   "outputs": [
    {
     "output_type": "display_data",
     "data": {
      "text/plain": [
       "<Figure size 800x600 with 12 Axes>"
      ],
      "image/png": "[encoded data removed]"
     },
     "metadata": {}
    }
   ],
   "source": [
    "def generate(n_samples, title):\n",
    "    z = tc.randn(n_samples, noise_dim)\n",
    "    z = z.to(device)\n",
    "    x_hat = gen(z)\n",
    "    x_hat = x_hat.detach().cpu().numpy().reshape(-1, 28, 28)\n",
    "\n",
    "    # The rest is just plotting:\n",
    "    n_rows = (n_samples + 3) // 4\n",
    "    fig, axs = plt.subplots(\n",
    "        nrows=n_rows,\n",
    "        ncols=4,\n",
    "        figsize=(8, 2*n_rows),\n",
    "        subplot_kw={'xticks': [], 'yticks': [], 'frame_on': False}\n",
    "    )\n",
    "    for i, axis in enumerate(axs.flat[:n_samples]):\n",
    "        axis.imshow(x_hat[i], cmap='binary')\n",
    "    plt.subplots_adjust(wspace=0.1, hspace=0.1)\n",
    "    fig.suptitle(title, fontsize=16)\n",
    "    plt.show()\n",
    "    plt.close()\n",
    "\n",
    "no_samples = 12\n",
    "generate(no_samples, title=\"Sampling Untrained Generator\")"
   ]
  },
  {
   "cell_type": "markdown",
   "source": [
    "### Training"
   ],
   "metadata": {
    "collapsed": false,
    "id": "OzhcpHF9gPO8"
   }
  },
  {
   "cell_type": "code",
   "execution_count": 12,
   "metadata": {
    "colab": {
     "base_uri": "https://localhost:8080/",
     "height": 1000
    },
    "id": "HqGrgdCwgPO8",
    "outputId": "89d6d87d-4398-417d-b71a-c6440ec4da44"
   },
   "outputs": [
    {
     "output_type": "stream",
     "name": "stderr",
     "text": [
      "100%|██████████| 469/469 [00:32<00:00, 14.37it/s]\n"
     ]
    },
    {
     "output_type": "stream",
     "name": "stdout",
     "text": [
      "Epoch [1/50] | Loss D: 0.1970 | Loss G: 7.7882\n"
     ]
    },
    {
     "output_type": "stream",
     "name": "stderr",
     "text": [
      "100%|██████████| 469/469 [00:22<00:00, 20.46it/s]\n"
     ]
    },
    {
     "output_type": "stream",
     "name": "stdout",
     "text": [
      "Epoch [2/50] | Loss D: 0.2262 | Loss G: 5.4097\n"
     ]
    },
    {
     "output_type": "stream",
     "name": "stderr",
     "text": [
      "100%|██████████| 469/469 [00:23<00:00, 19.68it/s]\n"
     ]
    },
    {
     "output_type": "stream",
     "name": "stdout",
     "text": [
      "Epoch [3/50] | Loss D: 0.2164 | Loss G: 4.3214\n"
     ]
    },
    {
     "output_type": "stream",
     "name": "stderr",
     "text": [
      "100%|██████████| 469/469 [00:24<00:00, 19.05it/s]\n"
     ]
    },
    {
     "output_type": "stream",
     "name": "stdout",
     "text": [
      "Epoch [4/50] | Loss D: 0.2380 | Loss G: 3.7067\n"
     ]
    },
    {
     "output_type": "stream",
     "name": "stderr",
     "text": [
      "100%|██████████| 469/469 [00:23<00:00, 19.73it/s]\n"
     ]
    },
    {
     "output_type": "stream",
     "name": "stdout",
     "text": [
      "Epoch [5/50] | Loss D: 0.2291 | Loss G: 3.0098\n"
     ]
    },
    {
     "output_type": "stream",
     "name": "stderr",
     "text": [
      "100%|██████████| 469/469 [00:23<00:00, 19.75it/s]\n"
     ]
    },
    {
     "output_type": "stream",
     "name": "stdout",
     "text": [
      "Epoch [6/50] | Loss D: 0.1981 | Loss G: 2.9539\n"
     ]
    },
    {
     "output_type": "stream",
     "name": "stderr",
     "text": [
      "100%|██████████| 469/469 [00:23<00:00, 20.17it/s]\n"
     ]
    },
    {
     "output_type": "stream",
     "name": "stdout",
     "text": [
      "Epoch [7/50] | Loss D: 0.2403 | Loss G: 2.8611\n"
     ]
    },
    {
     "output_type": "stream",
     "name": "stderr",
     "text": [
      "100%|██████████| 469/469 [00:23<00:00, 19.78it/s]\n"
     ]
    },
    {
     "output_type": "stream",
     "name": "stdout",
     "text": [
      "Epoch [8/50] | Loss D: 0.2509 | Loss G: 2.5605\n"
     ]
    },
    {
     "output_type": "stream",
     "name": "stderr",
     "text": [
      "100%|██████████| 469/469 [00:23<00:00, 20.02it/s]\n"
     ]
    },
    {
     "output_type": "stream",
     "name": "stdout",
     "text": [
      "Epoch [9/50] | Loss D: 0.2409 | Loss G: 2.5601\n"
     ]
    },
    {
     "output_type": "stream",
     "name": "stderr",
     "text": [
      "100%|██████████| 469/469 [00:22<00:00, 20.46it/s]\n"
     ]
    },
    {
     "output_type": "stream",
     "name": "stdout",
     "text": [
      "Epoch [10/50] | Loss D: 0.2321 | Loss G: 2.6058\n"
     ]
    },
    {
     "output_type": "display_data",
     "data": {
      "text/plain": [
       "<Figure size 800x600 with 12 Axes>"
      ],
      "image/png": "[encoded data removed]"
     },
     "metadata": {}
    },
    {
     "output_type": "stream",
     "name": "stderr",
     "text": [
      "100%|██████████| 469/469 [00:23<00:00, 20.02it/s]\n"
     ]
    },
    {
     "output_type": "stream",
     "name": "stdout",
     "text": [
      "Epoch [11/50] | Loss D: 0.2311 | Loss G: 2.5678\n"
     ]
    },
    {
     "output_type": "stream",
     "name": "stderr",
     "text": [
      "100%|██████████| 469/469 [00:23<00:00, 20.12it/s]\n"
     ]
    },
    {
     "output_type": "stream",
     "name": "stdout",
     "text": [
      "Epoch [12/50] | Loss D: 0.2416 | Loss G: 2.3931\n"
     ]
    },
    {
     "output_type": "stream",
     "name": "stderr",
     "text": [
      "100%|██████████| 469/469 [00:23<00:00, 19.76it/s]\n"
     ]
    },
    {
     "output_type": "stream",
     "name": "stdout",
     "text": [
      "Epoch [13/50] | Loss D: 0.2350 | Loss G: 2.4498\n"
     ]
    },
    {
     "output_type": "stream",
     "name": "stderr",
     "text": [
      "100%|██████████| 469/469 [00:22<00:00, 20.58it/s]\n"
     ]
    },
    {
     "output_type": "stream",
     "name": "stdout",
     "text": [
      "Epoch [14/50] | Loss D: 0.2377 | Loss G: 2.4769\n"
     ]
    },
    {
     "output_type": "stream",
     "name": "stderr",
     "text": [
      "100%|██████████| 469/469 [00:23<00:00, 20.03it/s]\n"
     ]
    },
    {
     "output_type": "stream",
     "name": "stdout",
     "text": [
      "Epoch [15/50] | Loss D: 0.2396 | Loss G: 2.4178\n"
     ]
    },
    {
     "output_type": "stream",
     "name": "stderr",
     "text": [
      "100%|██████████| 469/469 [00:23<00:00, 19.88it/s]\n"
     ]
    },
    {
     "output_type": "stream",
     "name": "stdout",
     "text": [
      "Epoch [16/50] | Loss D: 0.2325 | Loss G: 2.4663\n"
     ]
    },
    {
     "output_type": "stream",
     "name": "stderr",
     "text": [
      "100%|██████████| 469/469 [00:23<00:00, 19.78it/s]\n"
     ]
    },
    {
     "output_type": "stream",
     "name": "stdout",
     "text": [
      "Epoch [17/50] | Loss D: 0.2376 | Loss G: 2.3878\n"
     ]
    },
    {
     "output_type": "stream",
     "name": "stderr",
     "text": [
      "100%|██████████| 469/469 [00:22<00:00, 20.40it/s]\n"
     ]
    },
    {
     "output_type": "stream",
     "name": "stdout",
     "text": [
      "Epoch [18/50] | Loss D: 0.2333 | Loss G: 2.4258\n"
     ]
    },
    {
     "output_type": "stream",
     "name": "stderr",
     "text": [
      "100%|██████████| 469/469 [00:23<00:00, 20.03it/s]\n"
     ]
    },
    {
     "output_type": "stream",
     "name": "stdout",
     "text": [
      "Epoch [19/50] | Loss D: 0.2404 | Loss G: 2.4495\n"
     ]
    },
    {
     "output_type": "stream",
     "name": "stderr",
     "text": [
      "100%|██████████| 469/469 [00:23<00:00, 19.91it/s]\n"
     ]
    },
    {
     "output_type": "stream",
     "name": "stdout",
     "text": [
      "Epoch [20/50] | Loss D: 0.2323 | Loss G: 2.4859\n"
     ]
    },
    {
     "output_type": "display_data",
     "data": {
      "text/plain": [
       "<Figure size 800x600 with 12 Axes>"
      ],
      "image/png": "[encoded data removed]"
     },
     "metadata": {}
    },
    {
     "output_type": "stream",
     "name": "stderr",
     "text": [
      "100%|██████████| 469/469 [00:23<00:00, 19.82it/s]\n"
     ]
    },
    {
     "output_type": "stream",
     "name": "stdout",
     "text": [
      "Epoch [21/50] | Loss D: 0.2266 | Loss G: 2.4621\n"
     ]
    },
    {
     "output_type": "stream",
     "name": "stderr",
     "text": [
      "100%|██████████| 469/469 [00:22<00:00, 20.64it/s]\n"
     ]
    },
    {
     "output_type": "stream",
     "name": "stdout",
     "text": [
      "Epoch [22/50] | Loss D: 0.2266 | Loss G: 2.4464\n"
     ]
    },
    {
     "output_type": "stream",
     "name": "stderr",
     "text": [
      "100%|██████████| 469/469 [00:23<00:00, 20.24it/s]\n"
     ]
    },
    {
     "output_type": "stream",
     "name": "stdout",
     "text": [
      "Epoch [23/50] | Loss D: 0.2128 | Loss G: 2.4883\n"
     ]
    },
    {
     "output_type": "stream",
     "name": "stderr",
     "text": [
      "100%|██████████| 469/469 [00:23<00:00, 19.89it/s]\n"
     ]
    },
    {
     "output_type": "stream",
     "name": "stdout",
     "text": [
      "Epoch [24/50] | Loss D: 0.2107 | Loss G: 2.5174\n"
     ]
    },
    {
     "output_type": "stream",
     "name": "stderr",
     "text": [
      "100%|██████████| 469/469 [00:23<00:00, 20.06it/s]\n"
     ]
    },
    {
     "output_type": "stream",
     "name": "stdout",
     "text": [
      "Epoch [25/50] | Loss D: 0.2048 | Loss G: 2.5670\n"
     ]
    },
    {
     "output_type": "stream",
     "name": "stderr",
     "text": [
      "100%|██████████| 469/469 [00:22<00:00, 20.72it/s]\n"
     ]
    },
    {
     "output_type": "stream",
     "name": "stdout",
     "text": [
      "Epoch [26/50] | Loss D: 0.2093 | Loss G: 2.5592\n"
     ]
    },
    {
     "output_type": "stream",
     "name": "stderr",
     "text": [
      "100%|██████████| 469/469 [00:23<00:00, 20.17it/s]\n"
     ]
    },
    {
     "output_type": "stream",
     "name": "stdout",
     "text": [
      "Epoch [27/50] | Loss D: 0.2063 | Loss G: 2.5357\n"
     ]
    },
    {
     "output_type": "stream",
     "name": "stderr",
     "text": [
      "100%|██████████| 469/469 [00:23<00:00, 19.93it/s]\n"
     ]
    },
    {
     "output_type": "stream",
     "name": "stdout",
     "text": [
      "Epoch [28/50] | Loss D: 0.2074 | Loss G: 2.5955\n"
     ]
    },
    {
     "output_type": "stream",
     "name": "stderr",
     "text": [
      "100%|██████████| 469/469 [00:23<00:00, 19.89it/s]\n"
     ]
    },
    {
     "output_type": "stream",
     "name": "stdout",
     "text": [
      "Epoch [29/50] | Loss D: 0.1987 | Loss G: 2.5691\n"
     ]
    },
    {
     "output_type": "stream",
     "name": "stderr",
     "text": [
      "100%|██████████| 469/469 [00:23<00:00, 20.37it/s]\n"
     ]
    },
    {
     "output_type": "stream",
     "name": "stdout",
     "text": [
      "Epoch [30/50] | Loss D: 0.1943 | Loss G: 2.6492\n"
     ]
    },
    {
     "output_type": "display_data",
     "data": {
      "text/plain": [
       "<Figure size 800x600 with 12 Axes>"
      ],
      "image/png": "[encoded data removed]"
     },
     "metadata": {}
    },
    {
     "output_type": "stream",
     "name": "stderr",
     "text": [
      "100%|██████████| 469/469 [00:23<00:00, 19.78it/s]\n"
     ]
    },
    {
     "output_type": "stream",
     "name": "stdout",
     "text": [
      "Epoch [31/50] | Loss D: 0.1871 | Loss G: 2.6457\n"
     ]
    },
    {
     "output_type": "stream",
     "name": "stderr",
     "text": [
      "100%|██████████| 469/469 [00:24<00:00, 19.37it/s]\n"
     ]
    },
    {
     "output_type": "stream",
     "name": "stdout",
     "text": [
      "Epoch [32/50] | Loss D: 0.1842 | Loss G: 2.6986\n"
     ]
    },
    {
     "output_type": "stream",
     "name": "stderr",
     "text": [
      "100%|██████████| 469/469 [00:24<00:00, 19.41it/s]\n"
     ]
    },
    {
     "output_type": "stream",
     "name": "stdout",
     "text": [
      "Epoch [33/50] | Loss D: 0.1779 | Loss G: 2.6901\n"
     ]
    },
    {
     "output_type": "stream",
     "name": "stderr",
     "text": [
      "100%|██████████| 469/469 [00:24<00:00, 19.38it/s]\n"
     ]
    },
    {
     "output_type": "stream",
     "name": "stdout",
     "text": [
      "Epoch [34/50] | Loss D: 0.1816 | Loss G: 2.7099\n"
     ]
    },
    {
     "output_type": "stream",
     "name": "stderr",
     "text": [
      "100%|██████████| 469/469 [00:23<00:00, 19.84it/s]\n"
     ]
    },
    {
     "output_type": "stream",
     "name": "stdout",
     "text": [
      "Epoch [35/50] | Loss D: 0.1791 | Loss G: 2.6887\n"
     ]
    },
    {
     "output_type": "stream",
     "name": "stderr",
     "text": [
      "100%|██████████| 469/469 [00:24<00:00, 19.27it/s]\n"
     ]
    },
    {
     "output_type": "stream",
     "name": "stdout",
     "text": [
      "Epoch [36/50] | Loss D: 0.1822 | Loss G: 2.6609\n"
     ]
    },
    {
     "output_type": "stream",
     "name": "stderr",
     "text": [
      "100%|██████████| 469/469 [00:26<00:00, 17.37it/s]\n"
     ]
    },
    {
     "output_type": "stream",
     "name": "stdout",
     "text": [
      "Epoch [37/50] | Loss D: 0.1807 | Loss G: 2.6462\n"
     ]
    },
    {
     "output_type": "stream",
     "name": "stderr",
     "text": [
      "100%|██████████| 469/469 [00:24<00:00, 19.27it/s]\n"
     ]
    },
    {
     "output_type": "stream",
     "name": "stdout",
     "text": [
      "Epoch [38/50] | Loss D: 0.1846 | Loss G: 2.6888\n"
     ]
    },
    {
     "output_type": "stream",
     "name": "stderr",
     "text": [
      "100%|██████████| 469/469 [00:24<00:00, 19.38it/s]\n"
     ]
    },
    {
     "output_type": "stream",
     "name": "stdout",
     "text": [
      "Epoch [39/50] | Loss D: 0.1826 | Loss G: 2.6920\n"
     ]
    },
    {
     "output_type": "stream",
     "name": "stderr",
     "text": [
      "100%|██████████| 469/469 [00:23<00:00, 20.08it/s]\n"
     ]
    },
    {
     "output_type": "stream",
     "name": "stdout",
     "text": [
      "Epoch [40/50] | Loss D: 0.1812 | Loss G: 2.6587\n"
     ]
    },
    {
     "output_type": "display_data",
     "data": {
      "text/plain": [
       "<Figure size 800x600 with 12 Axes>"
      ],
      "image/png": "[encoded data removed]"
     },
     "metadata": {}
    },
    {
     "output_type": "stream",
     "name": "stderr",
     "text": [
      "100%|██████████| 469/469 [00:24<00:00, 19.05it/s]\n"
     ]
    },
    {
     "output_type": "stream",
     "name": "stdout",
     "text": [
      "Epoch [41/50] | Loss D: 0.1773 | Loss G: 2.6871\n"
     ]
    },
    {
     "output_type": "stream",
     "name": "stderr",
     "text": [
      "100%|██████████| 469/469 [00:24<00:00, 19.36it/s]\n"
     ]
    },
    {
     "output_type": "stream",
     "name": "stdout",
     "text": [
      "Epoch [42/50] | Loss D: 0.1766 | Loss G: 2.6746\n"
     ]
    },
    {
     "output_type": "stream",
     "name": "stderr",
     "text": [
      "100%|██████████| 469/469 [00:23<00:00, 19.61it/s]\n"
     ]
    },
    {
     "output_type": "stream",
     "name": "stdout",
     "text": [
      "Epoch [43/50] | Loss D: 0.1740 | Loss G: 2.7183\n"
     ]
    },
    {
     "output_type": "stream",
     "name": "stderr",
     "text": [
      "100%|██████████| 469/469 [00:23<00:00, 19.55it/s]\n"
     ]
    },
    {
     "output_type": "stream",
     "name": "stdout",
     "text": [
      "Epoch [44/50] | Loss D: 0.1740 | Loss G: 2.7661\n"
     ]
    },
    {
     "output_type": "stream",
     "name": "stderr",
     "text": [
      "100%|██████████| 469/469 [00:22<00:00, 20.49it/s]\n"
     ]
    },
    {
     "output_type": "stream",
     "name": "stdout",
     "text": [
      "Epoch [45/50] | Loss D: 0.1686 | Loss G: 2.7314\n"
     ]
    },
    {
     "output_type": "stream",
     "name": "stderr",
     "text": [
      "100%|██████████| 469/469 [00:23<00:00, 19.63it/s]\n"
     ]
    },
    {
     "output_type": "stream",
     "name": "stdout",
     "text": [
      "Epoch [46/50] | Loss D: 0.1627 | Loss G: 2.7978\n"
     ]
    },
    {
     "output_type": "stream",
     "name": "stderr",
     "text": [
      "100%|██████████| 469/469 [00:23<00:00, 19.74it/s]\n"
     ]
    },
    {
     "output_type": "stream",
     "name": "stdout",
     "text": [
      "Epoch [47/50] | Loss D: 0.1571 | Loss G: 2.7657\n"
     ]
    },
    {
     "output_type": "stream",
     "name": "stderr",
     "text": [
      "100%|██████████| 469/469 [00:24<00:00, 19.43it/s]\n"
     ]
    },
    {
     "output_type": "stream",
     "name": "stdout",
     "text": [
      "Epoch [48/50] | Loss D: 0.1547 | Loss G: 2.8065\n"
     ]
    },
    {
     "output_type": "stream",
     "name": "stderr",
     "text": [
      "100%|██████████| 469/469 [00:23<00:00, 20.08it/s]\n"
     ]
    },
    {
     "output_type": "stream",
     "name": "stdout",
     "text": [
      "Epoch [49/50] | Loss D: 0.1562 | Loss G: 2.7830\n"
     ]
    },
    {
     "output_type": "stream",
     "name": "stderr",
     "text": [
      "100%|██████████| 469/469 [00:23<00:00, 19.68it/s]\n"
     ]
    },
    {
     "output_type": "stream",
     "name": "stdout",
     "text": [
      "Epoch [50/50] | Loss D: 0.1547 | Loss G: 2.7830\n"
     ]
    },
    {
     "output_type": "display_data",
     "data": {
      "text/plain": [
       "<Figure size 800x600 with 12 Axes>"
      ],
      "image/png": "[encoded data removed]"
     },
     "metadata": {}
    }
   ],
   "source": [
    "def train_loop():\n",
    "\n",
    "    loss_fn = nn.BCELoss()\n",
    "\n",
    "    disc_losses = np.zeros(epochs)\n",
    "    gen_losses = np.zeros(epochs)\n",
    "    sample_every = 10\n",
    "    gen.train()\n",
    "    disc.train()\n",
    "\n",
    "    for epoch in range(epochs):\n",
    "\n",
    "        gen_loss = 0\n",
    "        disc_loss = 0\n",
    "\n",
    "        for i, (x, _) in enumerate(tqdm(train_loader)):\n",
    "\n",
    "            # ------------------------ Train Discriminator: ------------------------\n",
    "            opt_disc.zero_grad()\n",
    "            x = x.to(device)\n",
    "            z = tc.randn(x.shape[0], noise_dim).to(device)\n",
    "            x_hat = gen(z)\n",
    "\n",
    "            target_real = tc.ones((x.shape[0], 1)).to(device)\n",
    "            target_fake = tc.zeros((x.shape[0], 1)).to(device)\n",
    "            pred_real = disc(x)\n",
    "            pred_fake = disc(x_hat)\n",
    "\n",
    "            loss_real = loss_fn(pred_real, target_real)\n",
    "            loss_fake = loss_fn(pred_fake, target_fake)\n",
    "            loss_disc = (loss_real + loss_fake) / 2\n",
    "            disc_loss += loss_disc.item()\n",
    "\n",
    "            loss_disc.backward()\n",
    "            opt_disc.step()\n",
    "\n",
    "            # ------------------------ Train Generator: ------------------------\n",
    "            z = tc.randn(x.shape[0], noise_dim).to(device)\n",
    "            x_hat = gen(z)\n",
    "\n",
    "            target_real = tc.ones((x.shape[0], 1)).to(device)\n",
    "            pred_fake = disc(x_hat)\n",
    "\n",
    "            loss_gen = loss_fn(pred_fake, target_real)\n",
    "            gen_loss += loss_gen.item()\n",
    "\n",
    "            gen.zero_grad()\n",
    "            loss_gen.backward()\n",
    "            opt_gen.step()\n",
    "\n",
    "        # Print:\n",
    "        disc_losses[epoch] = disc_loss / len(train_loader)\n",
    "        gen_losses[epoch] = gen_loss / len(train_loader)\n",
    "        print(f\"Epoch [{epoch+1}/{epochs}] | Loss D: {disc_losses[epoch]:.4f} | Loss G: {gen_losses[epoch]:.4f}\")\n",
    "        # Sample:\n",
    "        if (epoch + 1) % sample_every == 0:\n",
    "            gen.eval()\n",
    "            generate(no_samples, f\"Epoch {epoch + 1}\")\n",
    "            gen.train()\n",
    "\n",
    "    return disc_losses, gen_losses\n",
    "\n",
    "d_loss, g_loss = train_loop()"
   ]
  },
  {
   "cell_type": "markdown",
   "source": [
    "# ↑ Mode Collapse\n",
    "Mode collapse in GANs is a significant challenge where G learns to produce a limited variety of outputs, even though the training data shows much greater diversity. Some common causes are:\n",
    "\n",
    "- **Rapid Convergence of Discriminator:** If the discriminator converges too quickly, it can overpower the generator, leading to vanishing gradients for the generator. This scenario makes it difficult for the generator to explore and learn from the full distribution of the training data, potentially causing mode collapse.\n",
    "- **High Learning Rates:** An excessively high learning rate can cause the training to oscillate around the optimal model parameters without properly converging. This can also lead the generator to find and stick to specific outputs that are easier to learn, rather than exploring a diverse set.\n",
    "- **Loss Function Issues:** The choice and design of the loss function can significantly affect the dynamics of training in GANs. Some loss functions may inherently encourage the generator to focus on minimizing errors in ways that do not encourage diversity (e.g., if the loss strongly penalizes deviations from certain successful outputs).\n",
    "- **Limited Model Capacity/Bad Architecture:** If the generator lacks sufficient complexity or capacity or is generally not designed well, it might not be capable of learning to produce a diverse range of outputs. Model capacity can limit the types of distributions the generator can learn, forcing it into repeating certain patterns.\n",
    "- **Unstable Training Dynamics:** GANs are notoriously difficult to train due to the delicate balance needed between the generator and discriminator. Instabilities in training, often exacerbated by issues like improper initialization or unsuitable optimizer settings, can lead to mode collapse.\n",
    "- **Poor Data Variability or Quality:** Inadequate or unrepresentative training data can limit the generator’s ability to produce diverse outputs. Similarly, if the data itself lacks variability, the generator may not learn to produce anything beyond a narrow slice of potential outputs.\n",
    "- **Improper Data/Batch Processing:** The way batches are constructed during training can also lead to mode collapse, especially if batches do not sufficiently represent the variability in the dataset. This can occur if batching methods inadvertently bias the data seen by the generator during training."
   ],
   "metadata": {
    "collapsed": false
   }
  },
  {
   "cell_type": "markdown",
   "source": [
    "# Plot Losses"
   ],
   "metadata": {
    "collapsed": false,
    "id": "KaVa1wAegPO9"
   }
  },
  {
   "cell_type": "code",
   "execution_count": 13,
   "metadata": {
    "colab": {
     "base_uri": "https://localhost:8080/",
     "height": 296
    },
    "id": "KTKiGZijgPO9",
    "outputId": "42e5a284-d610-4480-ce84-7e51f52e44d0"
   },
   "outputs": [
    {
     "output_type": "display_data",
     "data": {
      "text/plain": [
       "<Figure size 1500x500 with 2 Axes>"
      ],
      "image/png": "[encoded data removed]"
     },
     "metadata": {}
    }
   ],
   "source": [
    "epoch_ax = np.arange(start=1, stop=epochs+1, step=1)\n",
    "_, ax = plt.subplots(1, 2, figsize=(15, 5))\n",
    "\n",
    "ax[0].plot(epoch_ax, d_loss, color='blue')\n",
    "ax[0].set_xlim(1, epochs)\n",
    "ax[0].set_title(\"Discriminator Loss vs Epoch\")\n",
    "ax[0].grid()\n",
    "\n",
    "ax[1].plot(epoch_ax, g_loss, color='red')\n",
    "ax[1].set_xlim(1, epochs)\n",
    "ax[1].set_title(\"Generator Loss vs Epoch\")\n",
    "ax[1].grid()\n",
    "\n",
    "plt.tight_layout()\n",
    "plt.show()\n",
    "plt.close()"
   ]
  },
  {
   "cell_type": "markdown",
   "source": [
    "We cannot really see if this model suffers from mode collapse just by looking at our loss function plots. That is yet another reason why it is necessary to always investigate the actual generated data."
   ],
   "metadata": {
    "collapsed": false
   }
  },
  {
   "cell_type": "code",
   "execution_count": null,
   "outputs": [],
   "source": [],
   "metadata": {
    "collapsed": false
   }
  }
 ],
 "metadata": {
  "kernelspec": {
   "display_name": "Python 3",
   "name": "python3"
  },
  "language_info": {
   "codemirror_mode": {
    "name": "ipython",
    "version": 3
   },
   "file_extension": ".py",
   "mimetype": "text/x-python",
   "name": "python",
   "nbconvert_exporter": "python",
   "pygments_lexer": "ipython3",
   "version": "3.10.9"
  },
  "orig_nbformat": 4,
  "colab": {
   "provenance": [],
   "gpuType": "T4"
  },
  "accelerator": "GPU"
 },
 "nbformat": 4,
 "nbformat_minor": 0
}
